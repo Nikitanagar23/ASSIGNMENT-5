{
 "cells": [
  {
   "cell_type": "code",
   "execution_count": 1,
   "id": "c2423fdb-73bb-4b9d-8501-3c3abfc5b9ca",
   "metadata": {
    "tags": []
   },
   "outputs": [],
   "source": [
    "#FOR LOOP:-"
   ]
  },
  {
   "cell_type": "code",
   "execution_count": 2,
   "id": "408f1e42-a775-4a7c-b670-7ab9a29e69b8",
   "metadata": {
    "tags": []
   },
   "outputs": [],
   "source": [
    "#QUESTION 1"
   ]
  },
  {
   "cell_type": "code",
   "execution_count": 3,
   "id": "1161cb44-6c67-4d53-bdb4-3c337d103c2c",
   "metadata": {
    "tags": []
   },
   "outputs": [],
   "source": [
    "#WRITE A PYTHON PROGRAM TO PRINT NUMBERS FROM 1 TO 10 USING A FOR LOOP."
   ]
  },
  {
   "cell_type": "code",
   "execution_count": 1,
   "id": "fa0065b7-4714-4915-abf9-c06cd0fa60a2",
   "metadata": {},
   "outputs": [
    {
     "name": "stdout",
     "output_type": "stream",
     "text": [
      "1\n",
      "2\n",
      "3\n",
      "4\n",
      "5\n",
      "6\n",
      "7\n",
      "8\n",
      "9\n",
      "10\n"
     ]
    }
   ],
   "source": [
    "for i in range(1,11):\n",
    "    print(i)"
   ]
  },
  {
   "cell_type": "code",
   "execution_count": null,
   "id": "34499693-4d55-43d9-81ab-9d174e7ca238",
   "metadata": {},
   "outputs": [],
   "source": []
  },
  {
   "cell_type": "code",
   "execution_count": null,
   "id": "6a3b1ead-260e-4374-85f2-59535591a01a",
   "metadata": {},
   "outputs": [],
   "source": []
  },
  {
   "cell_type": "code",
   "execution_count": 4,
   "id": "97766f8d-a6c8-42b5-b89f-6dc6bb19a81a",
   "metadata": {
    "tags": []
   },
   "outputs": [],
   "source": [
    "#QUESTION 2"
   ]
  },
  {
   "cell_type": "code",
   "execution_count": 5,
   "id": "42a5c7d4-1cc0-436a-8d5a-7fb14232fc92",
   "metadata": {
    "tags": []
   },
   "outputs": [],
   "source": [
    "# EXPLAIN THE DIFFERENCE BETWEEN A FOR LOOP AND A WHILE LOOP IN PYTHON."
   ]
  },
  {
   "cell_type": "code",
   "execution_count": null,
   "id": "2984b294-fc5a-44e7-a40a-88fa646268e2",
   "metadata": {},
   "outputs": [],
   "source": [
    "\"\"\"ANSWER:- a for loop is used when you want to iterate over a sequence like a list, tuple,etc or when you know \n",
    "            how many times you want the loop to run. its like saying \"for each item in this collection, do this \n",
    "            thing.\"\n",
    "            \n",
    "            on the other hand, a while loop runs as long as a certain condition is true. its like saying \"while \n",
    "            this condition is true, keep doing this thing. \"so, it could potentially run forever if the condition\n",
    "            never becomes false.\"\"\""
   ]
  },
  {
   "cell_type": "code",
   "execution_count": null,
   "id": "50b51d55-d485-48cb-b086-25d50196d84b",
   "metadata": {},
   "outputs": [],
   "source": []
  },
  {
   "cell_type": "code",
   "execution_count": null,
   "id": "05ab5fea-7f73-4605-b666-f0f0e41c6fc8",
   "metadata": {},
   "outputs": [],
   "source": []
  },
  {
   "cell_type": "code",
   "execution_count": 6,
   "id": "b6274e55-285b-4d49-a1fc-fcc2c5beee10",
   "metadata": {
    "tags": []
   },
   "outputs": [],
   "source": [
    "# QUESTION 3"
   ]
  },
  {
   "cell_type": "code",
   "execution_count": 7,
   "id": "bbc0ee76-e5a3-440b-8459-2ecb3efff4bd",
   "metadata": {
    "tags": []
   },
   "outputs": [],
   "source": [
    "# WRITE A PYTHON PROGRAM TO CALCULATE THE SUM OF ALL NUMBERS FROM 1 TO 100 USING A FOR LOOP"
   ]
  },
  {
   "cell_type": "code",
   "execution_count": 3,
   "id": "92b6973d-4158-41e7-bf61-223785685e2c",
   "metadata": {},
   "outputs": [
    {
     "name": "stdout",
     "output_type": "stream",
     "text": [
      "The sum of numbers from 1 to 100 is: 5050\n"
     ]
    }
   ],
   "source": [
    "sum = 0\n",
    "for num in range(1,101):\n",
    "    sum +=num\n",
    "print(\"The sum of numbers from 1 to 100 is:\", sum)\n",
    "    "
   ]
  },
  {
   "cell_type": "code",
   "execution_count": null,
   "id": "6a24920b-9b78-4896-ae40-b0a49740e7de",
   "metadata": {},
   "outputs": [],
   "source": []
  },
  {
   "cell_type": "code",
   "execution_count": null,
   "id": "14e6d5b6-1e6d-4ddf-a59c-aa0dcf09e945",
   "metadata": {},
   "outputs": [],
   "source": []
  },
  {
   "cell_type": "code",
   "execution_count": 8,
   "id": "c154d522-49bf-445e-a6cc-c829467c2e8a",
   "metadata": {
    "tags": []
   },
   "outputs": [],
   "source": [
    "#QUESTION 4"
   ]
  },
  {
   "cell_type": "code",
   "execution_count": 9,
   "id": "c7761309-5904-4e9c-9618-edf0c3ab9589",
   "metadata": {
    "tags": []
   },
   "outputs": [],
   "source": [
    "# HOW DO YOU ITERATE THROUGH A LIST USING A FOR LOOP IN PYTHON?"
   ]
  },
  {
   "cell_type": "code",
   "execution_count": 4,
   "id": "6511a77a-f66f-4821-82e0-1bf76799db85",
   "metadata": {},
   "outputs": [
    {
     "name": "stdout",
     "output_type": "stream",
     "text": [
      "1\n",
      "2\n",
      "3\n",
      "4\n",
      "5\n"
     ]
    }
   ],
   "source": [
    "my_list = [1,2,3,4,5]\n",
    "for item in my_list:\n",
    "    print(item)"
   ]
  },
  {
   "cell_type": "code",
   "execution_count": null,
   "id": "87eb3fe7-f9d5-40fa-9c37-d5c221184b49",
   "metadata": {},
   "outputs": [],
   "source": []
  },
  {
   "cell_type": "code",
   "execution_count": null,
   "id": "b2804622-e5ec-40e0-a116-c81ae5764f40",
   "metadata": {},
   "outputs": [],
   "source": []
  },
  {
   "cell_type": "code",
   "execution_count": 10,
   "id": "98b09076-6fdf-4439-8102-c2bde2b18889",
   "metadata": {
    "tags": []
   },
   "outputs": [],
   "source": [
    "# QUESTION 5"
   ]
  },
  {
   "cell_type": "code",
   "execution_count": 11,
   "id": "531057ff-3053-43c5-aa53-24db80219b6c",
   "metadata": {
    "tags": []
   },
   "outputs": [],
   "source": [
    "# WRITE A PYTHON PROGRAM TO FIND THE PRODUCT OF ALL ELEMENTS IN A LIST USING A FOR LOOP."
   ]
  },
  {
   "cell_type": "code",
   "execution_count": 5,
   "id": "eb16ab6a-430d-41b5-bf05-7f208c8299e5",
   "metadata": {},
   "outputs": [
    {
     "name": "stdout",
     "output_type": "stream",
     "text": [
      "The product of all elements in the list is: 120\n"
     ]
    }
   ],
   "source": [
    "my_list = [1,2,3,4,5]\n",
    "product = 1\n",
    "for num in my_list:\n",
    "    product*=num\n",
    "print(\"The product of all elements in the list is:\", product)"
   ]
  },
  {
   "cell_type": "code",
   "execution_count": null,
   "id": "62a251a6-d897-4982-9c32-df68db4fd871",
   "metadata": {},
   "outputs": [],
   "source": []
  },
  {
   "cell_type": "code",
   "execution_count": null,
   "id": "5a949d33-4356-45ac-b8ba-a8794f068e57",
   "metadata": {},
   "outputs": [],
   "source": []
  },
  {
   "cell_type": "code",
   "execution_count": 12,
   "id": "aef64489-6f7c-44e3-ad1e-94b19c0987c1",
   "metadata": {
    "tags": []
   },
   "outputs": [],
   "source": [
    "# QUESTION 6"
   ]
  },
  {
   "cell_type": "code",
   "execution_count": 13,
   "id": "46f10e12-f247-4a7b-83bd-1efbfb864f46",
   "metadata": {
    "tags": []
   },
   "outputs": [],
   "source": [
    "# CREATE A PYTHON PROGRAM THAT PRINT ALL EVEN NUMBERS FROM 1 TO 20 USING A FOR"
   ]
  },
  {
   "cell_type": "code",
   "execution_count": 6,
   "id": "7c171937-f0f5-48d1-9d62-0c83986ed752",
   "metadata": {},
   "outputs": [
    {
     "name": "stdout",
     "output_type": "stream",
     "text": [
      "2\n",
      "4\n",
      "6\n",
      "8\n",
      "10\n",
      "12\n",
      "14\n",
      "16\n",
      "18\n",
      "20\n"
     ]
    }
   ],
   "source": [
    "for num in range(1,21):\n",
    "    if num%2==0:\n",
    "        print(num)"
   ]
  },
  {
   "cell_type": "code",
   "execution_count": null,
   "id": "88c269a0-92fa-4df1-b789-35ef8c7d02c7",
   "metadata": {},
   "outputs": [],
   "source": []
  },
  {
   "cell_type": "code",
   "execution_count": null,
   "id": "938bc039-4003-4f92-b731-aa9cb214aa9a",
   "metadata": {},
   "outputs": [],
   "source": []
  },
  {
   "cell_type": "code",
   "execution_count": 14,
   "id": "9428efb6-6e84-46f7-9e89-a9b07abc2c06",
   "metadata": {
    "tags": []
   },
   "outputs": [],
   "source": [
    "#QUESTION 7 "
   ]
  },
  {
   "cell_type": "code",
   "execution_count": 15,
   "id": "0cd8d991-4b08-4f1e-8b51-c3b43217b8ff",
   "metadata": {
    "tags": []
   },
   "outputs": [],
   "source": [
    "#WRITE A PYTHON PROGRAM THAT CALCULATES THE FACTORIAL OF A NUMBER USING A FOR LOOP."
   ]
  },
  {
   "cell_type": "code",
   "execution_count": 7,
   "id": "79e05efa-a157-4d6c-bd6a-266e26c71df8",
   "metadata": {},
   "outputs": [
    {
     "name": "stdout",
     "output_type": "stream",
     "text": [
      "The factorial of 5 is 120\n"
     ]
    }
   ],
   "source": [
    "num = 5\n",
    "factorial = 1\n",
    "for i in range(1,num+1):\n",
    "    factorial*=i\n",
    "print(\"The factorial of\",num,\"is\", factorial)"
   ]
  },
  {
   "cell_type": "code",
   "execution_count": null,
   "id": "6232fa74-efcf-422a-ba37-710fa353397e",
   "metadata": {},
   "outputs": [],
   "source": []
  },
  {
   "cell_type": "code",
   "execution_count": null,
   "id": "e7dac520-92a9-4b92-8b5e-698812478640",
   "metadata": {},
   "outputs": [],
   "source": []
  },
  {
   "cell_type": "code",
   "execution_count": 16,
   "id": "a406def2-55bd-4e7f-986d-ee97d2ba377a",
   "metadata": {
    "tags": []
   },
   "outputs": [],
   "source": [
    "# QUESTION 8"
   ]
  },
  {
   "cell_type": "code",
   "execution_count": 17,
   "id": "1f37158b-da5a-4083-98ff-196acfab9332",
   "metadata": {
    "tags": []
   },
   "outputs": [],
   "source": [
    "# HOW CAN YOU ITERATE THROUGH THE CHARACTERS OF A STRING USING A FOR LOOP IN PYTHON"
   ]
  },
  {
   "cell_type": "code",
   "execution_count": 8,
   "id": "99b8ad99-cc1e-4b85-a694-8be524b96008",
   "metadata": {},
   "outputs": [
    {
     "name": "stdout",
     "output_type": "stream",
     "text": [
      "H\n",
      "e\n",
      "l\n",
      "l\n",
      "o\n",
      ",\n",
      " \n",
      "w\n",
      "o\n",
      "r\n",
      "l\n",
      "d\n",
      "!\n"
     ]
    }
   ],
   "source": [
    "my_string = \"Hello, world!\"\n",
    "for char in my_string:\n",
    "    print(char)"
   ]
  },
  {
   "cell_type": "code",
   "execution_count": null,
   "id": "61c91eb9-f0c0-459d-8f1d-7ff3b9dbbe19",
   "metadata": {},
   "outputs": [],
   "source": []
  },
  {
   "cell_type": "code",
   "execution_count": null,
   "id": "5b7a55a2-69ab-49cf-8bbe-e0ce2b08960a",
   "metadata": {},
   "outputs": [],
   "source": []
  },
  {
   "cell_type": "code",
   "execution_count": 18,
   "id": "9fb48578-3e0a-44d3-bcf0-3ef5dd50a495",
   "metadata": {
    "tags": []
   },
   "outputs": [],
   "source": [
    "#QUESTION 9"
   ]
  },
  {
   "cell_type": "code",
   "execution_count": 19,
   "id": "f1500e46-44a2-4485-8bca-57e8d8e78308",
   "metadata": {
    "tags": []
   },
   "outputs": [],
   "source": [
    "# WRITE A PYTHON PROGRAM TO FIND THE LARGEST NUMBER IN A LIST USING A FOR LOOP"
   ]
  },
  {
   "cell_type": "code",
   "execution_count": 9,
   "id": "f1a7a025-1c4f-4408-8333-9ffdfd6376fb",
   "metadata": {},
   "outputs": [
    {
     "name": "stdout",
     "output_type": "stream",
     "text": [
      "The largest number in the list is: 20\n"
     ]
    }
   ],
   "source": [
    "my_list = [10,5,8,20,3]\n",
    "largest_num=my_list[0]\n",
    "for num in my_list:\n",
    "    if num>largest_num:\n",
    "        largest_num=num\n",
    "print(\"The largest number in the list is:\",largest_num)\n"
   ]
  },
  {
   "cell_type": "code",
   "execution_count": null,
   "id": "a3e1dce6-bbf7-42d1-b21b-dfd28a8d82da",
   "metadata": {},
   "outputs": [],
   "source": []
  },
  {
   "cell_type": "code",
   "execution_count": null,
   "id": "b8dcff5e-a783-479b-9d52-28acb2de4a04",
   "metadata": {},
   "outputs": [],
   "source": []
  },
  {
   "cell_type": "code",
   "execution_count": 20,
   "id": "d9803ebf-5147-4978-ad47-8efa68c132ad",
   "metadata": {
    "tags": []
   },
   "outputs": [],
   "source": [
    "#QUESTION 10"
   ]
  },
  {
   "cell_type": "code",
   "execution_count": 21,
   "id": "afde770f-14f1-410a-92f2-964c899d0eba",
   "metadata": {
    "tags": []
   },
   "outputs": [],
   "source": [
    "# CREATE A PYTHON PROGRAM THAT PRINTS THE FIBONACCI SEQUENCE UPTO A SPECIFIED LIMIT USING A FOR LOOP"
   ]
  },
  {
   "cell_type": "code",
   "execution_count": 11,
   "id": "965aba0e-8111-4e8a-96d5-90907203c613",
   "metadata": {},
   "outputs": [
    {
     "name": "stdout",
     "output_type": "stream",
     "text": [
      "The fibonacci sequence up to 10 is:\n",
      "0\n",
      "1\n",
      "1\n",
      "2\n",
      "3\n",
      "5\n",
      "8\n",
      "13\n",
      "21\n",
      "34\n"
     ]
    }
   ],
   "source": [
    "limit = 10 \n",
    "fib_sequence = [0,1]\n",
    "for i in range(2,limit):\n",
    "    fib_sequence.append(fib_sequence[i-1]+fib_sequence[i-2])\n",
    "print(\"The fibonacci sequence up to\", limit,\"is:\")\n",
    "for num in fib_sequence:\n",
    "    print(num)"
   ]
  },
  {
   "cell_type": "code",
   "execution_count": null,
   "id": "513f7e85-7826-4653-8d3d-e387604e9862",
   "metadata": {},
   "outputs": [],
   "source": []
  },
  {
   "cell_type": "code",
   "execution_count": null,
   "id": "a2832732-4650-4267-b82f-1f4e6ff36b96",
   "metadata": {},
   "outputs": [],
   "source": []
  },
  {
   "cell_type": "code",
   "execution_count": 22,
   "id": "cc6d240e-ed7b-4b30-b5cb-9e8a56ea2ff7",
   "metadata": {
    "tags": []
   },
   "outputs": [],
   "source": [
    "#QUESTION 11"
   ]
  },
  {
   "cell_type": "code",
   "execution_count": 23,
   "id": "67b0f359-9644-407c-b4a9-bbbbc71c8265",
   "metadata": {
    "tags": []
   },
   "outputs": [],
   "source": [
    "#WRITE A PYTHON PROGRAM TO COUNT THE NUMBER OF VOWELS IN A GIVEN STRING USING A FOR LOOP."
   ]
  },
  {
   "cell_type": "code",
   "execution_count": 12,
   "id": "8090c6ba-94c2-4b1a-8dc3-90a091cce61c",
   "metadata": {},
   "outputs": [
    {
     "name": "stdout",
     "output_type": "stream",
     "text": [
      "The number of vowels in the string is: 3\n"
     ]
    }
   ],
   "source": [
    "string = \"Hello, World!\"\n",
    "vowels = \"aeiouAEIOU\"\n",
    "count = 0\n",
    "for char in string:\n",
    "    if char in vowels:\n",
    "        count +=1\n",
    "print(\"The number of vowels in the string is:\",count)"
   ]
  },
  {
   "cell_type": "code",
   "execution_count": null,
   "id": "cfaff974-0952-4d7c-baeb-87572e37e199",
   "metadata": {},
   "outputs": [],
   "source": []
  },
  {
   "cell_type": "code",
   "execution_count": null,
   "id": "59641762-c458-4e59-b2a5-c6089692c80c",
   "metadata": {},
   "outputs": [],
   "source": []
  },
  {
   "cell_type": "code",
   "execution_count": 24,
   "id": "c0b086d8-0903-4fa4-aadd-14521f84f28f",
   "metadata": {
    "tags": []
   },
   "outputs": [],
   "source": [
    "#QUESTION 12"
   ]
  },
  {
   "cell_type": "code",
   "execution_count": 25,
   "id": "f1312c41-5906-42bd-b21c-1be08c9732ec",
   "metadata": {
    "tags": []
   },
   "outputs": [],
   "source": [
    "#CREATE A PYTHON PROGRAM THAT GENERATES A MULTIPLICATION TABLE FOR A GIVEN NUMBER USING A FOR LOOP."
   ]
  },
  {
   "cell_type": "code",
   "execution_count": 13,
   "id": "81d7b49f-065a-4737-bc65-a17dd5dbfa51",
   "metadata": {},
   "outputs": [
    {
     "name": "stdout",
     "output_type": "stream",
     "text": [
      "5 x 1 = 5\n",
      "5 x 2 = 10\n",
      "5 x 3 = 15\n",
      "5 x 4 = 20\n",
      "5 x 5 = 25\n",
      "5 x 6 = 30\n",
      "5 x 7 = 35\n",
      "5 x 8 = 40\n",
      "5 x 9 = 45\n",
      "5 x 10 = 50\n"
     ]
    }
   ],
   "source": [
    "num = 5\n",
    "for i in range(1,11):\n",
    "    print(num,\"x\",i,\"=\",num*i)"
   ]
  },
  {
   "cell_type": "code",
   "execution_count": null,
   "id": "e9327b61-a9f4-4185-b2ec-8c7b8840bd70",
   "metadata": {},
   "outputs": [],
   "source": []
  },
  {
   "cell_type": "code",
   "execution_count": null,
   "id": "66849b0c-a94c-43f2-aff5-4274fc31e81a",
   "metadata": {},
   "outputs": [],
   "source": []
  },
  {
   "cell_type": "code",
   "execution_count": 1,
   "id": "f7005a6b-5b36-4e81-a145-84bca5d4ec82",
   "metadata": {},
   "outputs": [],
   "source": [
    "# QUESTION 13"
   ]
  },
  {
   "cell_type": "code",
   "execution_count": 25,
   "id": "4798b006-aedb-43b7-8a62-0b863edbbb79",
   "metadata": {
    "tags": []
   },
   "outputs": [],
   "source": [
    "#WRITE A PYTHON PROGRAM TO REVERSE A LIST USING A FOR LOOP."
   ]
  },
  {
   "cell_type": "code",
   "execution_count": 14,
   "id": "66b1f6c2-9752-442e-9cf0-c6a48f8acdff",
   "metadata": {},
   "outputs": [
    {
     "name": "stdout",
     "output_type": "stream",
     "text": [
      "The original list: [1, 2, 3, 4, 5]\n",
      "The reversed list: [5, 4, 3, 2, 1]\n"
     ]
    }
   ],
   "source": [
    "original_list=[1,2,3,4,5]\n",
    "reversed_list =[]\n",
    "for i in range(len(original_list)-1,-1,-1):\n",
    "    reversed_list.append(original_list[i])\n",
    "print(\"The original list:\",original_list)\n",
    "print(\"The reversed list:\",reversed_list)"
   ]
  },
  {
   "cell_type": "code",
   "execution_count": null,
   "id": "49e3e011-eddc-4051-9aac-4e60c51aec84",
   "metadata": {},
   "outputs": [],
   "source": []
  },
  {
   "cell_type": "code",
   "execution_count": null,
   "id": "cddb27c5-2189-4998-b64e-48b440ac44ed",
   "metadata": {},
   "outputs": [],
   "source": []
  },
  {
   "cell_type": "code",
   "execution_count": 3,
   "id": "65386b2f-78a1-4dcf-a58d-a1a7ae1d0a28",
   "metadata": {
    "tags": []
   },
   "outputs": [],
   "source": [
    "#QUESTION 14"
   ]
  },
  {
   "cell_type": "code",
   "execution_count": 26,
   "id": "0cd992dd-7c53-4de3-9104-8fa4c9f4a3ef",
   "metadata": {
    "tags": []
   },
   "outputs": [],
   "source": [
    "#WRITE A PYTHON PROGRAM TO FIND THE COMMON ELEMENTS BETWEEN TWO LISTS USING A FOR LOOP."
   ]
  },
  {
   "cell_type": "code",
   "execution_count": 17,
   "id": "c0b9212d-3fbe-4551-aeaa-137ec571216c",
   "metadata": {},
   "outputs": [
    {
     "name": "stdout",
     "output_type": "stream",
     "text": [
      "The common elements between the two lists are: [4, 5]\n"
     ]
    }
   ],
   "source": [
    "list1 = [1,2,3,4,5]\n",
    "list2 = [4,5,6,7,8]\n",
    "common_elements=[]\n",
    "for element in list1:\n",
    "    if element in list2:\n",
    "        common_elements.append(element)\n",
    "print(\"The common elements between the two lists are:\",common_elements)"
   ]
  },
  {
   "cell_type": "code",
   "execution_count": null,
   "id": "80eb20c4-601d-4a5b-80e7-e2cf72a8adee",
   "metadata": {},
   "outputs": [],
   "source": []
  },
  {
   "cell_type": "code",
   "execution_count": null,
   "id": "3bc3a7dd-716a-4f61-b8ae-f2829c4078b8",
   "metadata": {},
   "outputs": [],
   "source": []
  },
  {
   "cell_type": "code",
   "execution_count": 5,
   "id": "b296d57a-fb9b-409f-895e-043ed555b7a8",
   "metadata": {
    "tags": []
   },
   "outputs": [],
   "source": [
    "#QUESTION 15"
   ]
  },
  {
   "cell_type": "code",
   "execution_count": 27,
   "id": "ae40298f-e4a7-48d8-a901-ab40e4873ee6",
   "metadata": {
    "tags": []
   },
   "outputs": [],
   "source": [
    "#EXPLAIN HOW TO USE A FOR LOOP TO ITERATE THROUGH THE KEYS AND VALUES OF A DICTIONARY IN PYTHON."
   ]
  },
  {
   "cell_type": "code",
   "execution_count": 18,
   "id": "2ae9364c-bfbc-473c-bf5f-a4565aa0c890",
   "metadata": {},
   "outputs": [
    {
     "name": "stdout",
     "output_type": "stream",
     "text": [
      "The key is and the value is Nikita\n",
      "The key is and the value is Python\n"
     ]
    }
   ],
   "source": [
    "my_dict = {\"name\": \"Nikita\",\"interset\":\"Python\"}\n",
    "for key, value in my_dict.items():\n",
    "    print(\"The key is\",\"and the value is\",value)"
   ]
  },
  {
   "cell_type": "code",
   "execution_count": null,
   "id": "10a573e8-2c2e-41e3-85f8-e48bba006784",
   "metadata": {},
   "outputs": [],
   "source": []
  },
  {
   "cell_type": "code",
   "execution_count": null,
   "id": "c53c98d4-ecf6-4b51-8598-4c0b48dfefa4",
   "metadata": {},
   "outputs": [],
   "source": []
  },
  {
   "cell_type": "code",
   "execution_count": 7,
   "id": "e1cb46c7-8d0b-400b-9a14-27c2086b1d35",
   "metadata": {
    "tags": []
   },
   "outputs": [],
   "source": [
    "#QUESTION 16"
   ]
  },
  {
   "cell_type": "code",
   "execution_count": 28,
   "id": "a70e1d28-8cbb-4860-827f-ef8edaf14e71",
   "metadata": {
    "tags": []
   },
   "outputs": [],
   "source": [
    "#WRITE A PYTHON PROGRAM TO FIND THE GCD OF TWO NUMBERS USING A FOR LOOP"
   ]
  },
  {
   "cell_type": "code",
   "execution_count": 20,
   "id": "fbf3c554-17fe-446f-b682-83667989686c",
   "metadata": {},
   "outputs": [
    {
     "name": "stdout",
     "output_type": "stream",
     "text": [
      "The GCD of 24 and 36 is 12\n"
     ]
    }
   ],
   "source": [
    "def find_gcd(num1,num2):\n",
    "    gcd = 1\n",
    "    for i in range(1,min(num1,num2)+1):\n",
    "        if num1%i==0 and num2%i==0:\n",
    "            gcd = i\n",
    "    return gcd\n",
    "number1 = 24\n",
    "number2 = 36\n",
    "gcd_result = find_gcd(number1,number2)\n",
    "print(\"The GCD of\",number1,\"and\",number2,\"is\",gcd_result)"
   ]
  },
  {
   "cell_type": "code",
   "execution_count": null,
   "id": "84071e3d-886c-4893-b7b4-3976a4c8261a",
   "metadata": {},
   "outputs": [],
   "source": []
  },
  {
   "cell_type": "code",
   "execution_count": null,
   "id": "f8773afd-9940-4326-9686-00ef37fb99da",
   "metadata": {},
   "outputs": [],
   "source": []
  },
  {
   "cell_type": "code",
   "execution_count": 9,
   "id": "4ec3f9cf-3e08-4fb6-8815-46008bd65127",
   "metadata": {
    "tags": []
   },
   "outputs": [],
   "source": [
    "#QUESTION 17"
   ]
  },
  {
   "cell_type": "code",
   "execution_count": 29,
   "id": "c25997ab-bb58-4a3e-aede-8b09ab95f71b",
   "metadata": {
    "tags": []
   },
   "outputs": [],
   "source": [
    "#CREATE A PYTHON PROGRAMTHAT CHECKS IF A STRING IS A PALINDROME USING A FOR LOOP"
   ]
  },
  {
   "cell_type": "code",
   "execution_count": 24,
   "id": "b4a53385-c9f7-44a3-8383-2b9e3f130738",
   "metadata": {},
   "outputs": [
    {
     "name": "stdout",
     "output_type": "stream",
     "text": [
      "radar is a palindrome!\n"
     ]
    }
   ],
   "source": [
    "def is_palindrome(my_string):\n",
    "    length = len(my_string)\n",
    "    for i in range(length//2):\n",
    "        if my_string[i]!=my_string[length-i-1]:\n",
    "            return False\n",
    "    return True\n",
    "test_string = \"radar\"\n",
    "if is_palindrome(test_string):\n",
    "    print(test_string,\"is a palindrome!\")\n",
    "else:\n",
    "    print(test_string,\"is not a palindrome.\")"
   ]
  },
  {
   "cell_type": "code",
   "execution_count": null,
   "id": "8d81e750-eca8-40b2-a440-ae1c7f1309a1",
   "metadata": {},
   "outputs": [],
   "source": []
  },
  {
   "cell_type": "code",
   "execution_count": null,
   "id": "9ce4b892-840e-4f9d-ba0f-a2141b946c88",
   "metadata": {},
   "outputs": [],
   "source": []
  },
  {
   "cell_type": "code",
   "execution_count": 11,
   "id": "77b94b7a-67ea-4e94-a1f2-976fa8990674",
   "metadata": {
    "tags": []
   },
   "outputs": [],
   "source": [
    "#QUESTION 18"
   ]
  },
  {
   "cell_type": "code",
   "execution_count": 12,
   "id": "7bca24ee-2d1f-4245-9efb-038405cb8ce6",
   "metadata": {
    "tags": []
   },
   "outputs": [],
   "source": [
    "#WRITE A PYTHON PROGRAM TO REMOVE DUPLICATES FROM A LIST USING A FOR LOOP."
   ]
  },
  {
   "cell_type": "code",
   "execution_count": 25,
   "id": "acc64d16-3261-4aa9-934d-0130b94e0f44",
   "metadata": {},
   "outputs": [
    {
     "name": "stdout",
     "output_type": "stream",
     "text": [
      "Original list: [1, 2, 2, 3, 4, 4, 5, 6, 6, 7]\n",
      "List without duplicates: [1, 2, 3, 4, 5, 6, 7]\n"
     ]
    }
   ],
   "source": [
    "def remove_duplicates(my_list):\n",
    "    new_list=[]\n",
    "    for item in my_list:\n",
    "        if item not in new_list:\n",
    "            new_list.append(item)\n",
    "    return new_list\n",
    "original_list = [1,2,2,3,4,4,5,6,6,7]\n",
    "no_duplicates_list=remove_duplicates(original_list)\n",
    "print(\"Original list:\",original_list)\n",
    "print(\"List without duplicates:\",no_duplicates_list)"
   ]
  },
  {
   "cell_type": "code",
   "execution_count": null,
   "id": "ebd1c0d6-8230-468d-b6d2-c07403541a30",
   "metadata": {},
   "outputs": [],
   "source": []
  },
  {
   "cell_type": "code",
   "execution_count": null,
   "id": "af680710-7227-4e3e-86b7-52253df9611b",
   "metadata": {},
   "outputs": [],
   "source": []
  },
  {
   "cell_type": "code",
   "execution_count": 13,
   "id": "022e045a-4235-4d1e-bd70-0e9f261ab921",
   "metadata": {
    "tags": []
   },
   "outputs": [],
   "source": [
    "#QUESTION 19"
   ]
  },
  {
   "cell_type": "code",
   "execution_count": 30,
   "id": "80c37a47-7233-4686-98a6-e33ec2fb1ba7",
   "metadata": {
    "tags": []
   },
   "outputs": [],
   "source": [
    "#CREATE A PYTHON PROGRAM THAT COUNTS THE NUMBER OF WORDS IN A SENTENCE USING A FOR LOOP"
   ]
  },
  {
   "cell_type": "code",
   "execution_count": 29,
   "id": "23ddb4d3-6a5a-4992-9d28-dd77b63ef8fb",
   "metadata": {},
   "outputs": [
    {
     "name": "stdout",
     "output_type": "stream",
     "text": [
      "The sentence: Hello,how are you?\n",
      "Number of words: 3\n"
     ]
    }
   ],
   "source": [
    "def count_words(sentence):\n",
    "    words = sentence.split(' ')\n",
    "    word_count = 0\n",
    "    for word in words:\n",
    "        word_count+=1\n",
    "    return word_count\n",
    "test_sentence =\"Hello,how are you?\"\n",
    "word_count = count_words(test_sentence)\n",
    "print(\"The sentence:\",test_sentence)\n",
    "print(\"Number of words:\",word_count)"
   ]
  },
  {
   "cell_type": "code",
   "execution_count": null,
   "id": "43d733b7-9a95-4d23-b46b-08326c1239ae",
   "metadata": {},
   "outputs": [],
   "source": []
  },
  {
   "cell_type": "code",
   "execution_count": null,
   "id": "5665273a-81e3-4cad-9a85-9e2561d1cb08",
   "metadata": {},
   "outputs": [],
   "source": []
  },
  {
   "cell_type": "code",
   "execution_count": 15,
   "id": "eb8877ff-bac9-420c-8499-6842746be7e6",
   "metadata": {
    "tags": []
   },
   "outputs": [],
   "source": [
    "#QUESTION 20"
   ]
  },
  {
   "cell_type": "code",
   "execution_count": 31,
   "id": "b08349eb-e87c-41d5-84c1-c11a1f02f939",
   "metadata": {
    "tags": []
   },
   "outputs": [],
   "source": [
    "#WRITE A PYTHON PROGRAM TO FIND THE SUM OF ALL ODD NUMBERS FROM 1 TO 50 USING A FOR LOOP."
   ]
  },
  {
   "cell_type": "code",
   "execution_count": 32,
   "id": "8e4ce1cb-1ecf-48ef-8ff5-cde6bd13b565",
   "metadata": {},
   "outputs": [
    {
     "name": "stdout",
     "output_type": "stream",
     "text": [
      "The sum of all odd numbers from 1 to 50 is: 625\n"
     ]
    }
   ],
   "source": [
    "sum_of_odds=0\n",
    "for num in range(1,51):\n",
    "    if num%2!=0:\n",
    "        sum_of_odds+=num\n",
    "print(\"The sum of all odd numbers from 1 to 50 is:\",sum_of_odds)"
   ]
  },
  {
   "cell_type": "code",
   "execution_count": null,
   "id": "c53d2cf7-9453-4936-96ba-a0950da427af",
   "metadata": {},
   "outputs": [],
   "source": []
  },
  {
   "cell_type": "code",
   "execution_count": null,
   "id": "53e6853f-7634-44a2-8820-9f8e057564ff",
   "metadata": {},
   "outputs": [],
   "source": []
  },
  {
   "cell_type": "code",
   "execution_count": 17,
   "id": "f822e4ff-245f-43a2-ab6c-1e6492ca29ff",
   "metadata": {
    "tags": []
   },
   "outputs": [],
   "source": [
    "#QUESTION 21"
   ]
  },
  {
   "cell_type": "code",
   "execution_count": 32,
   "id": "c3dd4a92-d36c-45f1-8e33-fcef46b2f277",
   "metadata": {
    "tags": []
   },
   "outputs": [],
   "source": [
    "#WRITE A PYTHON PROGRAM THAT CHECKS IF A GIVEN YEAR IS A LEAP YEAR USING A FOR LOOP"
   ]
  },
  {
   "cell_type": "code",
   "execution_count": 34,
   "id": "90eabf0b-442d-4869-a034-3daa6a44fdff",
   "metadata": {},
   "outputs": [
    {
     "name": "stdout",
     "output_type": "stream",
     "text": [
      "2024 is a leap year!\n"
     ]
    }
   ],
   "source": [
    "def is_leap_year(year):\n",
    "    if year%4 == 0:\n",
    "        if year%100==0:\n",
    "            if year%400 == 0:\n",
    "                return True\n",
    "            else:\n",
    "                return False\n",
    "        else:\n",
    "            return True\n",
    "    else:\n",
    "        return false\n",
    "test_year=2024\n",
    "if is_leap_year(test_year):\n",
    "    print(f\"{test_year} is a leap year!\")\n",
    "else:\n",
    "    print(f\"{test_year} is not a leap year!\")"
   ]
  },
  {
   "cell_type": "code",
   "execution_count": null,
   "id": "b8d245ea-891e-4439-bfdb-f3e7bb264996",
   "metadata": {},
   "outputs": [],
   "source": []
  },
  {
   "cell_type": "code",
   "execution_count": null,
   "id": "34459640-0df8-4b7a-8889-b10286ab0d22",
   "metadata": {},
   "outputs": [],
   "source": []
  },
  {
   "cell_type": "code",
   "execution_count": 19,
   "id": "4da4cf53-4c7f-4864-aa41-5fdebfbd1f4a",
   "metadata": {
    "tags": []
   },
   "outputs": [],
   "source": [
    "#QUESTION 22"
   ]
  },
  {
   "cell_type": "code",
   "execution_count": 20,
   "id": "7cc8adb1-95e7-400c-b239-a797f80e7a17",
   "metadata": {
    "tags": []
   },
   "outputs": [],
   "source": [
    "#CREATE A PYTHON PROGRAM THAT CALCULATES THE SQUARE ROOT OF A NUMBER USING A FOR LOOP"
   ]
  },
  {
   "cell_type": "code",
   "execution_count": 35,
   "id": "d85fbde2-f3f6-4699-9280-a403bdefc930",
   "metadata": {},
   "outputs": [
    {
     "name": "stdout",
     "output_type": "stream",
     "text": [
      "The square root of 16 is approximately: 4.0000001858445895\n"
     ]
    }
   ],
   "source": [
    "def sqrt(number,precision=0.00001):\n",
    "    guess = number/2.0\n",
    "    difference = guess*guess-number\n",
    "    while abs(difference)>=precision:\n",
    "        guess = (guess+(number/guess))/2.0\n",
    "        difference = guess*guess-number\n",
    "    return guess\n",
    "number = 16\n",
    "print(\"The square root of\",number,\"is approximately:\",sqrt(number))"
   ]
  },
  {
   "cell_type": "code",
   "execution_count": null,
   "id": "ed7e1b1f-bdd1-456d-9ac8-ea28ea8d0483",
   "metadata": {},
   "outputs": [],
   "source": []
  },
  {
   "cell_type": "code",
   "execution_count": null,
   "id": "94e592fc-5817-4e80-9dc8-e0034512585f",
   "metadata": {},
   "outputs": [],
   "source": []
  },
  {
   "cell_type": "code",
   "execution_count": 21,
   "id": "7ed9331f-1f31-4750-987e-b1ebe3b05820",
   "metadata": {
    "tags": []
   },
   "outputs": [],
   "source": [
    "#QUESTION 23"
   ]
  },
  {
   "cell_type": "code",
   "execution_count": 22,
   "id": "1a4b995e-4e16-48e2-af24-cc64ddaf13ea",
   "metadata": {
    "tags": []
   },
   "outputs": [],
   "source": [
    "# WRITE A PYTHON PROGRAM TO FIND THE LCM OF TWO NUMBERS USING A FOR LOOP"
   ]
  },
  {
   "cell_type": "code",
   "execution_count": 36,
   "id": "8c38181c-f077-45c6-9491-5d6047ace6df",
   "metadata": {},
   "outputs": [
    {
     "name": "stdout",
     "output_type": "stream",
     "text": [
      "The LCM of 12 and 18 is: 36\n"
     ]
    }
   ],
   "source": [
    "def find_lcm(num1,num2):\n",
    "    max_num=max(num1,num2)\n",
    "    lcm = max_num\n",
    "    while True:\n",
    "        if lcm%num1==0 and lcm%num2==0:\n",
    "            break\n",
    "        lcm+=max_num\n",
    "    return lcm\n",
    "number1 = 12\n",
    "number2 = 18\n",
    "print(\"The LCM of\",number1,\"and\",number2,\"is:\",find_lcm(number1,number2))"
   ]
  },
  {
   "cell_type": "code",
   "execution_count": null,
   "id": "4ec96e3e-7ec4-43c1-b884-8987de492622",
   "metadata": {},
   "outputs": [],
   "source": []
  },
  {
   "cell_type": "code",
   "execution_count": null,
   "id": "391710c3-e2d7-491e-af88-f7a3408bc6ad",
   "metadata": {},
   "outputs": [],
   "source": []
  },
  {
   "cell_type": "code",
   "execution_count": 24,
   "id": "03eee4c9-b96c-4796-a4dd-6f92580b5f74",
   "metadata": {
    "tags": []
   },
   "outputs": [],
   "source": [
    "#IF ELSE:"
   ]
  },
  {
   "cell_type": "code",
   "execution_count": 33,
   "id": "b16091d7-59d1-4a28-a8e4-074f90eb7036",
   "metadata": {
    "tags": []
   },
   "outputs": [],
   "source": [
    "#QUESTION 1"
   ]
  },
  {
   "cell_type": "code",
   "execution_count": 34,
   "id": "19f96f2e-9c7f-42af-9b6d-62f4da38dc8d",
   "metadata": {
    "tags": []
   },
   "outputs": [],
   "source": [
    "#WRITE A PYTHON PROGRAM TO CHECK IF A NUMBER IS POSITIVE, NEGATIVE OR ZERO USING AN IF - ELSE STATEMENT."
   ]
  },
  {
   "cell_type": "code",
   "execution_count": 37,
   "id": "f3b11e26-830e-4458-ad54-11d049a4a720",
   "metadata": {},
   "outputs": [
    {
     "name": "stdout",
     "output_type": "stream",
     "text": [
      "The number 10 is: Positive\n"
     ]
    }
   ],
   "source": [
    "def check_number(num):\n",
    "    if num>0:\n",
    "        return \"Positive\"\n",
    "    elif num<0:\n",
    "        return \"negative\"\n",
    "    else:\n",
    "        return\"Zero\"\n",
    "number =10\n",
    "print(\"The number\",number,\"is:\",check_number(number))"
   ]
  },
  {
   "cell_type": "code",
   "execution_count": null,
   "id": "ddc3b9d8-1207-4235-b0e2-2d9c56082755",
   "metadata": {},
   "outputs": [],
   "source": []
  },
  {
   "cell_type": "code",
   "execution_count": null,
   "id": "3799a000-a908-4a42-8033-8c8fe27c6280",
   "metadata": {},
   "outputs": [],
   "source": []
  },
  {
   "cell_type": "code",
   "execution_count": 38,
   "id": "0da9213e-7689-4879-87ea-f6519c03e707",
   "metadata": {
    "tags": []
   },
   "outputs": [],
   "source": [
    "#QUESTION 2"
   ]
  },
  {
   "cell_type": "code",
   "execution_count": 39,
   "id": "49b1fa7e-7d7c-4554-a09c-b4f2d0ed57df",
   "metadata": {
    "tags": []
   },
   "outputs": [],
   "source": [
    "# CREATE A PYTHON PROGRAM THAT CHECKS IF A GIVEN NUMBER IS EVEN OR ODD USING AN IF-ELSE STATEMENT."
   ]
  },
  {
   "cell_type": "code",
   "execution_count": 18,
   "id": "c3364f6a-cbd0-41bc-a242-a1839dd52c1a",
   "metadata": {},
   "outputs": [
    {
     "name": "stdout",
     "output_type": "stream",
     "text": [
      "The number 7 is: Odd\n"
     ]
    }
   ],
   "source": [
    "def check_even_odd(num):\n",
    "    if num%2==0:\n",
    "        return \"Even\"\n",
    "    else:\n",
    "        return \"Odd\"\n",
    "number = 7 \n",
    "print(\"The number\",number,\"is:\",check_even_odd(number))"
   ]
  },
  {
   "cell_type": "code",
   "execution_count": null,
   "id": "85470341-e808-45ee-b1e2-561a5d877338",
   "metadata": {},
   "outputs": [],
   "source": []
  },
  {
   "cell_type": "code",
   "execution_count": null,
   "id": "a9edeb7c-0dd1-4910-b214-a49000b507d0",
   "metadata": {},
   "outputs": [],
   "source": []
  },
  {
   "cell_type": "code",
   "execution_count": 40,
   "id": "9a8d928f-2b90-4cd2-b699-442fd37c047d",
   "metadata": {
    "tags": []
   },
   "outputs": [],
   "source": [
    "#QUESTION 3"
   ]
  },
  {
   "cell_type": "code",
   "execution_count": 41,
   "id": "d6f1f5ff-5180-4311-a802-abf70c94c10e",
   "metadata": {
    "tags": []
   },
   "outputs": [],
   "source": [
    "# HOW CAN YOU USE NESTED IF-ELSE STATEMENTS IN PYTHON, AND PROVIDE AN EXAMPLE?"
   ]
  },
  {
   "cell_type": "code",
   "execution_count": 20,
   "id": "2c08071f-6a16-4bd0-addd-c432174d70ab",
   "metadata": {},
   "outputs": [
    {
     "name": "stdout",
     "output_type": "stream",
     "text": [
      "The student's grade is: B\n"
     ]
    }
   ],
   "source": [
    "def check_grade(score):\n",
    "    if score>=90:\n",
    "        grade =\"A\"\n",
    "    else:\n",
    "        if score>=80:\n",
    "            grade = \"B\"\n",
    "        else:\n",
    "            if score>=70:\n",
    "                grade=\"C\"\n",
    "            else:\n",
    "                if score>=60:\n",
    "                    grade=\"D\"\n",
    "                else:\n",
    "                    grade = \"F\"\n",
    "    return grade\n",
    "student_score =85\n",
    "print(\"The student's grade is:\",check_grade(student_score))"
   ]
  },
  {
   "cell_type": "code",
   "execution_count": null,
   "id": "26ff3077-4172-4466-bd70-eb3218afa9c5",
   "metadata": {},
   "outputs": [],
   "source": []
  },
  {
   "cell_type": "code",
   "execution_count": null,
   "id": "8f219b88-133b-4114-bffe-530d7f0f0047",
   "metadata": {},
   "outputs": [],
   "source": []
  },
  {
   "cell_type": "code",
   "execution_count": 42,
   "id": "fce020de-04a0-4acb-8611-c1de716d8ab5",
   "metadata": {
    "tags": []
   },
   "outputs": [],
   "source": [
    "#QUESTION 4"
   ]
  },
  {
   "cell_type": "code",
   "execution_count": 43,
   "id": "f986185b-d5a4-4cec-9391-cf7b5d517c73",
   "metadata": {
    "tags": []
   },
   "outputs": [],
   "source": [
    "# WRITE A PYTHON PROGRAM TO DETERMINE THE LARGEST OF THREE NUMBERS USING IF-ELSE"
   ]
  },
  {
   "cell_type": "code",
   "execution_count": 21,
   "id": "260b8423-5846-4cb1-af4a-8753949a8b8f",
   "metadata": {},
   "outputs": [
    {
     "name": "stdout",
     "output_type": "stream",
     "text": [
      "The largest number is: 20\n"
     ]
    }
   ],
   "source": [
    "def find_largest_number(a,b,c):\n",
    "    if a>=b and a>=c:\n",
    "        largest = a\n",
    "    elif b>=a and b>=c:\n",
    "        largest = b\n",
    "    else:\n",
    "        largest = c\n",
    "    return largest\n",
    "num1=10\n",
    "num2=20\n",
    "num3=15\n",
    "largest_number = find_largest_number(num1,num2,num3)\n",
    "print(\"The largest number is:\",largest_number)"
   ]
  },
  {
   "cell_type": "code",
   "execution_count": null,
   "id": "1bdc4b46-e8a9-41a1-892c-70a3e017aa5c",
   "metadata": {},
   "outputs": [],
   "source": []
  },
  {
   "cell_type": "code",
   "execution_count": null,
   "id": "b71fa23d-3cf9-4f34-96a9-d4e3f5195d63",
   "metadata": {},
   "outputs": [],
   "source": []
  },
  {
   "cell_type": "code",
   "execution_count": 44,
   "id": "251f9f30-74cb-4c0e-b5ff-50d49b3aaf08",
   "metadata": {
    "tags": []
   },
   "outputs": [],
   "source": [
    "#QUESTION 5"
   ]
  },
  {
   "cell_type": "code",
   "execution_count": 45,
   "id": "fbe74e5a-8d86-4dc2-9e74-3bc1fbf23b8a",
   "metadata": {
    "tags": []
   },
   "outputs": [],
   "source": [
    "#WRITE A PYTHON PROGRAM THAT CALCULATES THE ABSOLUTE VALUE OF A NUMBER USING IF-ELSE"
   ]
  },
  {
   "cell_type": "code",
   "execution_count": 1,
   "id": "94bd0e2b-bae5-478c-90d0-f7c30e1ca302",
   "metadata": {},
   "outputs": [
    {
     "name": "stdout",
     "output_type": "stream",
     "text": [
      "The absolute value of -5 is 5\n"
     ]
    }
   ],
   "source": [
    "def absolute_value(num):\n",
    "    if num<0:\n",
    "        return-num\n",
    "    else:\n",
    "        return num\n",
    "number = -5\n",
    "result=absolute_value(number)\n",
    "print(\"The absolute value of\",number,\"is\",result)"
   ]
  },
  {
   "cell_type": "code",
   "execution_count": null,
   "id": "55ff3175-2d15-4fa9-ac80-86b44df0c7bc",
   "metadata": {},
   "outputs": [],
   "source": []
  },
  {
   "cell_type": "code",
   "execution_count": null,
   "id": "c33a1472-0756-4fce-9165-58572c097c9d",
   "metadata": {},
   "outputs": [],
   "source": []
  },
  {
   "cell_type": "code",
   "execution_count": 46,
   "id": "bb44d381-0882-44f2-be18-786eb3c50846",
   "metadata": {
    "tags": []
   },
   "outputs": [],
   "source": [
    "#QUESTION 6"
   ]
  },
  {
   "cell_type": "code",
   "execution_count": 47,
   "id": "8c5a97de-69e6-4e01-a1e8-e9907557bcdc",
   "metadata": {
    "tags": []
   },
   "outputs": [],
   "source": [
    "#CREATE A PYTHON PROGRAM THAT CHECKS IF A GIVEN CHARACTER IS VOWEL OR CONSONANT USING IF-ELSE"
   ]
  },
  {
   "cell_type": "code",
   "execution_count": 2,
   "id": "ee50e995-be25-4034-8b4a-863e0af99d59",
   "metadata": {},
   "outputs": [
    {
     "name": "stdout",
     "output_type": "stream",
     "text": [
      "a is a consonant.\n"
     ]
    }
   ],
   "source": [
    "def check_character(ch):\n",
    "    if ch in 'aeiou':\n",
    "        print(ch,\"is a consonant.\")\n",
    "char='a'\n",
    "check_character(char)"
   ]
  },
  {
   "cell_type": "code",
   "execution_count": null,
   "id": "9549d156-0af8-4697-b24a-d96d827f9bc4",
   "metadata": {},
   "outputs": [],
   "source": []
  },
  {
   "cell_type": "code",
   "execution_count": null,
   "id": "d9ae989e-33ea-40bf-beee-04a2b31b9c4b",
   "metadata": {},
   "outputs": [],
   "source": []
  },
  {
   "cell_type": "code",
   "execution_count": 48,
   "id": "842a1b0d-cd66-47f0-b049-e0aff295f674",
   "metadata": {
    "tags": []
   },
   "outputs": [],
   "source": [
    "#QUESTION 7"
   ]
  },
  {
   "cell_type": "code",
   "execution_count": 49,
   "id": "927bcc56-8913-457c-b5aa-92824f0a074c",
   "metadata": {
    "tags": []
   },
   "outputs": [],
   "source": [
    "# WRITE A PYTHON PROGRAM TO DETERMINE IF A USER IS ELIGIBLE TO VOTE BASED ON THEIR AGE USING IF-ELSE"
   ]
  },
  {
   "cell_type": "code",
   "execution_count": 4,
   "id": "ac92c6bd-2a34-4500-bf23-1ae723bdfd25",
   "metadata": {},
   "outputs": [
    {
     "name": "stdout",
     "output_type": "stream",
     "text": [
      "You are eligible to vote.\n"
     ]
    }
   ],
   "source": [
    "def check_voting_eligibility(age):\n",
    "    if age>=18:\n",
    "        print(\"You are eligible to vote.\")\n",
    "user_age = 19\n",
    "check_voting_eligibility(user_age)"
   ]
  },
  {
   "cell_type": "code",
   "execution_count": null,
   "id": "e031b93b-2a32-40f9-81df-1d66adba9ffc",
   "metadata": {},
   "outputs": [],
   "source": []
  },
  {
   "cell_type": "code",
   "execution_count": null,
   "id": "595785d8-34df-4b0c-96bf-2755b86631c0",
   "metadata": {},
   "outputs": [],
   "source": []
  },
  {
   "cell_type": "code",
   "execution_count": 50,
   "id": "959a9382-1841-47f6-86f7-f431f2f72afa",
   "metadata": {
    "tags": []
   },
   "outputs": [],
   "source": [
    "#QUESTION 8"
   ]
  },
  {
   "cell_type": "code",
   "execution_count": 51,
   "id": "eb81da7a-791c-42ab-bb24-fe35417d1647",
   "metadata": {
    "tags": []
   },
   "outputs": [],
   "source": [
    "#CREATE A PYTHON PROGRAM THAT CALCULATES THE DISCOUNT AMOUNT BASED ON THE PURCHASE AMOUNT USING IF-ELSE."
   ]
  },
  {
   "cell_type": "code",
   "execution_count": 6,
   "id": "59842c68-ef3d-45fe-abca-cfb46959463c",
   "metadata": {},
   "outputs": [
    {
     "name": "stdout",
     "output_type": "stream",
     "text": [
      "The discount amount for a purchase of 1500 is 150.0\n"
     ]
    }
   ],
   "source": [
    "def calculate_discount(purchase_amount):\n",
    "    if purchase_amount>=1000:\n",
    "        discount=purchase_amount*0.1\n",
    "    else:\n",
    "        discount = 0\n",
    "    return discount\n",
    "amount = 1500\n",
    "discount = calculate_discount(amount)\n",
    "print(\"The discount amount for a purchase of\",amount,\"is\",discount)"
   ]
  },
  {
   "cell_type": "code",
   "execution_count": null,
   "id": "82f90710-40d0-47b3-b64c-cd4b21b5d6f7",
   "metadata": {},
   "outputs": [],
   "source": []
  },
  {
   "cell_type": "code",
   "execution_count": null,
   "id": "6624ce07-4ed4-48de-ba30-db32a212e14c",
   "metadata": {},
   "outputs": [],
   "source": []
  },
  {
   "cell_type": "code",
   "execution_count": 52,
   "id": "cb850c60-4192-4e08-a918-37ea1352b9dd",
   "metadata": {
    "tags": []
   },
   "outputs": [],
   "source": [
    "#QUESTION 9"
   ]
  },
  {
   "cell_type": "code",
   "execution_count": 53,
   "id": "b304e16a-f766-47f5-a177-3cab6778ab4a",
   "metadata": {
    "tags": []
   },
   "outputs": [],
   "source": [
    "# WRITE A PYTHON PROGRAM TO CHECK IF A NUMBER IS WITHIN A SPECIFIED RANGE USING IF-ELSE"
   ]
  },
  {
   "cell_type": "code",
   "execution_count": 7,
   "id": "5c2f46f7-8c9c-42ca-ae33-2a5b53df9cde",
   "metadata": {},
   "outputs": [
    {
     "name": "stdout",
     "output_type": "stream",
     "text": [
      "25 is within the specified range.\n"
     ]
    }
   ],
   "source": [
    "def check_number_range(number,start,end):\n",
    "    if number>=start and number<=end:\n",
    "        print(number,\"is within the specified range.\")\n",
    "    else:\n",
    "        print(number,\"is not within the specified range.\")\n",
    "num =25\n",
    "start =10\n",
    "end =30\n",
    "check_number_range(num,start,end)"
   ]
  },
  {
   "cell_type": "code",
   "execution_count": null,
   "id": "322309ea-ed1c-476d-9b5e-59f46798173c",
   "metadata": {},
   "outputs": [],
   "source": []
  },
  {
   "cell_type": "code",
   "execution_count": null,
   "id": "fbe83391-592e-46bd-a06c-ff2fd64be248",
   "metadata": {},
   "outputs": [],
   "source": []
  },
  {
   "cell_type": "code",
   "execution_count": 54,
   "id": "f9669de8-96a3-4b56-9bef-edabed83c00e",
   "metadata": {
    "tags": []
   },
   "outputs": [],
   "source": [
    "#QUESTION 10"
   ]
  },
  {
   "cell_type": "code",
   "execution_count": 55,
   "id": "927a1399-6c7a-4c8b-8d2e-932e952a5dc5",
   "metadata": {
    "tags": []
   },
   "outputs": [],
   "source": [
    "#CREATE  A PYTHON PROGRAM THAT DETERMINES THE GRADE OF A STUDENT BASED ON THEIR SCORE USING IF-ELSE"
   ]
  },
  {
   "cell_type": "code",
   "execution_count": 9,
   "id": "e8e8a11a-ce71-4c17-848f-e7a6b56825c7",
   "metadata": {},
   "outputs": [
    {
     "name": "stdout",
     "output_type": "stream",
     "text": [
      "The grade for a score of 85 is B\n"
     ]
    }
   ],
   "source": [
    "def determine_grade(score):\n",
    "    if score>=90:\n",
    "        return\"A\"\n",
    "    elif score>=80:\n",
    "        return\"B\"\n",
    "    elif score>=70:\n",
    "        return\"C\"\n",
    "    elif score>=60:\n",
    "        return\"D\"\n",
    "    else:\n",
    "        return \"F\"\n",
    "student_score=85\n",
    "grade = determine_grade(student_score)\n",
    "print(\"The grade for a score of\",student_score,\"is\",grade)"
   ]
  },
  {
   "cell_type": "code",
   "execution_count": null,
   "id": "8288234f-ac37-404c-b4b7-376174d55e1d",
   "metadata": {},
   "outputs": [],
   "source": []
  },
  {
   "cell_type": "code",
   "execution_count": null,
   "id": "554cd4b1-9a67-42c9-ab3a-5adb758e1f0a",
   "metadata": {},
   "outputs": [],
   "source": []
  },
  {
   "cell_type": "code",
   "execution_count": 57,
   "id": "e49e75c5-dfcc-43e0-915a-accca55a8b2d",
   "metadata": {
    "tags": []
   },
   "outputs": [],
   "source": [
    "#QUESTION 11"
   ]
  },
  {
   "cell_type": "code",
   "execution_count": 58,
   "id": "a7a3bda8-6d07-4e8f-a3d1-85b3067bdd1f",
   "metadata": {
    "tags": []
   },
   "outputs": [],
   "source": [
    "#WRITE A PYTHON PROGRAM TO CHECK IF A STRING IS EMPTY OR NOT USING  IF-ELSE "
   ]
  },
  {
   "cell_type": "code",
   "execution_count": 10,
   "id": "c83534be-7ade-4e2f-ba92-a4373183ddb6",
   "metadata": {},
   "outputs": [
    {
     "name": "stdout",
     "output_type": "stream",
     "text": [
      "The string is not empty.\n"
     ]
    }
   ],
   "source": [
    "def check_string_empty(string):\n",
    "    if string:\n",
    "        print(\"The string is not empty.\")\n",
    "    else:\n",
    "        print(\"The string is empty.\")\n",
    "my_string = \"Hello,world!\"\n",
    "check_string_empty(my_string)"
   ]
  },
  {
   "cell_type": "code",
   "execution_count": null,
   "id": "4a9c6b8e-ab72-4d84-b634-a2158fcbba83",
   "metadata": {},
   "outputs": [],
   "source": []
  },
  {
   "cell_type": "code",
   "execution_count": null,
   "id": "f09df417-9804-4997-98e7-e94a899cda6b",
   "metadata": {},
   "outputs": [],
   "source": []
  },
  {
   "cell_type": "code",
   "execution_count": 59,
   "id": "3075ab66-7b80-4bfe-899d-14524fbfd1d8",
   "metadata": {
    "tags": []
   },
   "outputs": [],
   "source": [
    "#QUESTION 12"
   ]
  },
  {
   "cell_type": "code",
   "execution_count": 60,
   "id": "1cedacaa-a32d-4e67-86de-d11a158964a9",
   "metadata": {
    "tags": []
   },
   "outputs": [],
   "source": [
    "#CREATE A PYTHON PROGRAM THAT IDENTIFIES THE TYPE OF A TRIANGLE BASED ON INPUT VALUES USING IF-ELSE"
   ]
  },
  {
   "cell_type": "code",
   "execution_count": 11,
   "id": "e2aca59c-48b7-40a9-bc3a-68da78494027",
   "metadata": {},
   "outputs": [
    {
     "name": "stdout",
     "output_type": "stream",
     "text": [
      "The triangle with sides 5 , 5 and 5 is equilateral\n"
     ]
    }
   ],
   "source": [
    "def identify_triangle_type(side1,side2,side3):\n",
    "    if side1==side2==side3:\n",
    "        return\"equilateral\"\n",
    "    elif side1==side2 or side1==side3 or side2==side3:\n",
    "        return \"isosceles\"\n",
    "    else:\n",
    "        return \"scalene\"\n",
    "side_a =5 \n",
    "side_b=5\n",
    "side_c =5\n",
    "triangle_type=identify_triangle_type(side_a,side_b,side_c)\n",
    "print(\"The triangle with sides\", side_a,\",\",side_b,\"and\",side_c,\"is\",triangle_type)"
   ]
  },
  {
   "cell_type": "code",
   "execution_count": null,
   "id": "a9c9af76-a179-480c-b50d-d688bbc26719",
   "metadata": {},
   "outputs": [],
   "source": []
  },
  {
   "cell_type": "code",
   "execution_count": null,
   "id": "d93e9775-c26a-4f7b-8575-072a24795a00",
   "metadata": {},
   "outputs": [],
   "source": []
  },
  {
   "cell_type": "code",
   "execution_count": 61,
   "id": "f3f07f06-1e9c-4499-bf5b-4a31c42d3ca4",
   "metadata": {
    "tags": []
   },
   "outputs": [],
   "source": [
    "#QUESTION 13"
   ]
  },
  {
   "cell_type": "code",
   "execution_count": 62,
   "id": "612c7d94-01e1-4b08-a896-4f92b520a277",
   "metadata": {
    "tags": []
   },
   "outputs": [],
   "source": [
    "# WRITE A PYTHON PROGRAM TO DETERMINE THE DAY OF THE WEEK BASED ON A USER-PROVIDED NUMBER USING IF-ELSE"
   ]
  },
  {
   "cell_type": "code",
   "execution_count": 13,
   "id": "766bf92b-23e5-424a-8d8d-cbfcd9311c03",
   "metadata": {},
   "outputs": [
    {
     "name": "stdout",
     "output_type": "stream",
     "text": [
      "The day for number 3 is Wednesday\n"
     ]
    }
   ],
   "source": [
    "def determine_day(number):\n",
    "    if number==1:\n",
    "        return\"Monday\"\n",
    "    elif number==2:\n",
    "        return \"Tuesday\"\n",
    "    elif number==3:\n",
    "        return \"Wednesday\"\n",
    "    elif number==4:\n",
    "        return \"Thursday\"\n",
    "    elif number==5:\n",
    "        return\"Friday\"\n",
    "    elif number==6:\n",
    "        return\"Saturday\"\n",
    "    elif number==7:\n",
    "        return\"sunday\"\n",
    "    else:\n",
    "        return \"Invalid number. Please enter a number between 1 and 7.\"\n",
    "day_number=3\n",
    "day = determine_day(day_number)\n",
    "print(\"The day for number\", day_number,\"is\",day)"
   ]
  },
  {
   "cell_type": "code",
   "execution_count": null,
   "id": "afed7cbf-10d3-4c9a-85a3-14e1d2bdf077",
   "metadata": {},
   "outputs": [],
   "source": []
  },
  {
   "cell_type": "code",
   "execution_count": null,
   "id": "e65f125a-fad9-42bc-bdf0-3b3be677e502",
   "metadata": {},
   "outputs": [],
   "source": []
  },
  {
   "cell_type": "code",
   "execution_count": 63,
   "id": "94d024d3-8c9e-4c13-aac0-83de8e04abf6",
   "metadata": {
    "tags": []
   },
   "outputs": [],
   "source": [
    "#QUESTION 14"
   ]
  },
  {
   "cell_type": "code",
   "execution_count": 64,
   "id": "09822ed0-09c4-414b-86db-30888bcff89f",
   "metadata": {
    "tags": []
   },
   "outputs": [],
   "source": [
    "# CREATE A PYTHON PROGRAM THAT CHECKS IF A GIVEN YEAR IS A LEAP YEAR USING BOTH IF-ELSE AND A FUNCTION"
   ]
  },
  {
   "cell_type": "code",
   "execution_count": 15,
   "id": "094fdf0e-8ccf-4af3-bbb3-19f73252ea38",
   "metadata": {},
   "outputs": [
    {
     "name": "stdout",
     "output_type": "stream",
     "text": [
      "2024 is a leap year.\n"
     ]
    }
   ],
   "source": [
    "def check_leap_year(year):\n",
    "    if year%4==0:\n",
    "        if year%100==0:\n",
    "            if year%400==0:\n",
    "                return True\n",
    "            else:\n",
    "                return False\n",
    "        else:\n",
    "            return True\n",
    "    else:\n",
    "        return False\n",
    "my_year = 2024\n",
    "if check_leap_year(my_year):\n",
    "    print(my_year,\"is a leap year.\")\n",
    "else:\n",
    "    print(my_year,\"is not a leap year.\")"
   ]
  },
  {
   "cell_type": "code",
   "execution_count": null,
   "id": "e7f67c7c-0162-4289-9657-5b97ca1d0920",
   "metadata": {},
   "outputs": [],
   "source": []
  },
  {
   "cell_type": "code",
   "execution_count": null,
   "id": "7f55d66e-5598-4b4c-ac3c-c269078752bc",
   "metadata": {},
   "outputs": [],
   "source": []
  },
  {
   "cell_type": "code",
   "execution_count": 65,
   "id": "3b071c79-8a76-4e7f-9ddf-7167239c3e21",
   "metadata": {
    "tags": []
   },
   "outputs": [],
   "source": [
    "#QUESTION 15"
   ]
  },
  {
   "cell_type": "code",
   "execution_count": 66,
   "id": "471b4f58-0065-4a24-9376-fc3aafd0b011",
   "metadata": {
    "tags": []
   },
   "outputs": [],
   "source": [
    "# HOW DO YOU USE THE \"ASSERT\" STATEMENT IN PYTHON TO ADD DEBUGGING CHECKS WITHIN IF-ELSE BLOCKS?"
   ]
  },
  {
   "cell_type": "code",
   "execution_count": 17,
   "id": "10e8103d-e384-4d7f-9af1-0d8adcfa9628",
   "metadata": {},
   "outputs": [
    {
     "name": "stdout",
     "output_type": "stream",
     "text": [
      "5 is odd.\n"
     ]
    }
   ],
   "source": [
    "def check_positive_number(num):\n",
    "    assert num>0, \"Only positive numbers are allowed!\"\n",
    "    if num%2==0:\n",
    "        print(num,\"is even.\")\n",
    "    else:\n",
    "        print(num,\"is odd.\")\n",
    "check_positive_number(5)\n"
   ]
  },
  {
   "cell_type": "code",
   "execution_count": null,
   "id": "80414105-94d5-4165-9b2f-9aa8c61412e2",
   "metadata": {},
   "outputs": [],
   "source": []
  },
  {
   "cell_type": "code",
   "execution_count": null,
   "id": "c5d104b6-a1bc-4126-831e-88f7f991c7f4",
   "metadata": {},
   "outputs": [],
   "source": []
  },
  {
   "cell_type": "code",
   "execution_count": 67,
   "id": "3f0e83f3-a6e9-4099-a6e5-19074f932d34",
   "metadata": {
    "tags": []
   },
   "outputs": [],
   "source": [
    "#QUESTION 16"
   ]
  },
  {
   "cell_type": "code",
   "execution_count": 70,
   "id": "f5254a46-3965-4d92-8958-8a864837e278",
   "metadata": {
    "tags": []
   },
   "outputs": [],
   "source": [
    "# CREATE A PYTHON PROGRAM THAT DETERMINES THE ELIGIBILITY OF A PERSON FOR A SENIOR CITIZEN DISCOUNT BASED ON AGE USING IF-ELSE"
   ]
  },
  {
   "cell_type": "code",
   "execution_count": 18,
   "id": "f66e05f7-91b8-45df-bc2b-b691cf22dbca",
   "metadata": {},
   "outputs": [
    {
     "name": "stdout",
     "output_type": "stream",
     "text": [
      "Eligible for senior citizen discount.\n"
     ]
    }
   ],
   "source": [
    "def check_discount_eligibility(age):\n",
    "    if age>=60:\n",
    "        return\"Eligible for senior citizen discount.\"\n",
    "    else:\n",
    "        return \"Not eligible for senior citizen discount.\"\n",
    "age = 65\n",
    "print(check_discount_eligibility(age))"
   ]
  },
  {
   "cell_type": "code",
   "execution_count": null,
   "id": "bd404d52-6a2c-4942-be7e-3bce9a789af0",
   "metadata": {},
   "outputs": [],
   "source": []
  },
  {
   "cell_type": "code",
   "execution_count": null,
   "id": "5574a2a0-4815-4f69-816e-703bc55a2835",
   "metadata": {},
   "outputs": [],
   "source": []
  },
  {
   "cell_type": "code",
   "execution_count": 71,
   "id": "14dedbf1-3090-4855-9134-865cfddb6ec2",
   "metadata": {
    "tags": []
   },
   "outputs": [],
   "source": [
    "#QUESTION 17"
   ]
  },
  {
   "cell_type": "code",
   "execution_count": 72,
   "id": "2bea9467-96dd-4c43-bfbe-21197cffb7bd",
   "metadata": {
    "tags": []
   },
   "outputs": [],
   "source": [
    "#WRITE A PYTHON PROGRAM TO CATEGORIZE A GIVEN CHARACTER AS UPPERCASE,LOWERASE,OR NEITHER USING IF-ELSE"
   ]
  },
  {
   "cell_type": "code",
   "execution_count": 20,
   "id": "d19e6763-af0b-4547-b560-8a8f43fb6332",
   "metadata": {},
   "outputs": [
    {
     "name": "stdout",
     "output_type": "stream",
     "text": [
      "This is an uppercase character.\n"
     ]
    }
   ],
   "source": [
    "def categorize_character(char):\n",
    "    if char.isupper():\n",
    "        return \"This is an uppercase character.\"\n",
    "    elif char.islower():\n",
    "        return \"This is a lowercase character.\"\n",
    "    else:\n",
    "        return \"This is neither an uppercase nor a lowercase character.\"\n",
    "char ='A'\n",
    "print(categorize_character(char))"
   ]
  },
  {
   "cell_type": "code",
   "execution_count": null,
   "id": "3e003406-e576-4393-b8f2-f4f7933ecc43",
   "metadata": {},
   "outputs": [],
   "source": []
  },
  {
   "cell_type": "code",
   "execution_count": null,
   "id": "625c0bd5-af8a-4407-9256-ea3126a4b6a3",
   "metadata": {},
   "outputs": [],
   "source": []
  },
  {
   "cell_type": "code",
   "execution_count": 73,
   "id": "2fa1faff-641b-4f0f-b047-e7ebc16c882a",
   "metadata": {
    "tags": []
   },
   "outputs": [],
   "source": [
    "#QUESTION 18"
   ]
  },
  {
   "cell_type": "code",
   "execution_count": 74,
   "id": "6d54821d-73c1-4bd2-bd6d-84029a23a4f8",
   "metadata": {
    "tags": []
   },
   "outputs": [],
   "source": [
    "# WRITE A PYTHON PROGRAM TO DETERMINE THE ROOTS OF A QUADRATIC EQUATION USING IF-ELSE"
   ]
  },
  {
   "cell_type": "code",
   "execution_count": 21,
   "id": "e66fa837-e251-4e0c-a224-7a81103db9d1",
   "metadata": {},
   "outputs": [
    {
     "name": "stdout",
     "output_type": "stream",
     "text": [
      "The equation has two distinct real roots:(1+0j) and(2+0j). \n"
     ]
    }
   ],
   "source": [
    "import cmath\n",
    "def find_roots(a,b,c):\n",
    "    discriminant=(b**2)-(4*a*c)\n",
    "    root1 = (-b-cmath.sqrt(discriminant))/(2*a)\n",
    "    root2= (-b+cmath.sqrt(discriminant))/(2*a)\n",
    "    if discriminant>0:\n",
    "        return\"The equation has two distinct real roots:{} and{}. \".format(root1,root2)\n",
    "    elif discriminant==0:\n",
    "        return\"The equation has one real root:{}.\".format(root1,root2)\n",
    "a=1\n",
    "b=-3\n",
    "c=2\n",
    "print(find_roots(a,b,c))"
   ]
  },
  {
   "cell_type": "code",
   "execution_count": null,
   "id": "23750bdd-bd24-4884-a18d-eef95e7f70c2",
   "metadata": {},
   "outputs": [],
   "source": []
  },
  {
   "cell_type": "code",
   "execution_count": null,
   "id": "3ee993d2-62b8-4954-8f57-00812d2880af",
   "metadata": {},
   "outputs": [],
   "source": []
  },
  {
   "cell_type": "code",
   "execution_count": 2,
   "id": "d97c7559-1d0d-46b2-be77-fa929a1204d9",
   "metadata": {
    "tags": []
   },
   "outputs": [],
   "source": [
    "#QUESTION 19"
   ]
  },
  {
   "cell_type": "code",
   "execution_count": 3,
   "id": "b54575e2-7721-4ac2-906f-a09098457bf1",
   "metadata": {
    "tags": []
   },
   "outputs": [],
   "source": [
    "#CREATE A PYTHON PROGRAM THAT CHECKS IF A GIVEN YEAR IS A CENTURY YEAR OR NOT USING IF ELSE"
   ]
  },
  {
   "cell_type": "code",
   "execution_count": 22,
   "id": "e299b1af-4bfd-48c0-9d48-d15b8e33440c",
   "metadata": {},
   "outputs": [
    {
     "name": "stdout",
     "output_type": "stream",
     "text": [
      "yes,2000 is a century year.\n"
     ]
    }
   ],
   "source": [
    "def is_century_year(year):\n",
    "    if year%100==0:\n",
    "        return \"yes,{} is a century year.\".format(year)\n",
    "    else:\n",
    "        return\"No,{} is not a century year.\".format(year)\n",
    "year = 2000\n",
    "print(is_century_year(year))"
   ]
  },
  {
   "cell_type": "code",
   "execution_count": null,
   "id": "3f0d7786-6fe9-4463-afd6-f18d061820fd",
   "metadata": {},
   "outputs": [],
   "source": []
  },
  {
   "cell_type": "code",
   "execution_count": null,
   "id": "989d3f3c-2b58-4c3c-b334-651febd4350a",
   "metadata": {},
   "outputs": [],
   "source": []
  },
  {
   "cell_type": "code",
   "execution_count": 4,
   "id": "5eaed82d-d14f-4a6d-8ee0-00ca3378f210",
   "metadata": {
    "tags": []
   },
   "outputs": [],
   "source": [
    "#QUESTION 20"
   ]
  },
  {
   "cell_type": "code",
   "execution_count": 5,
   "id": "3d1efe63-7149-4fd3-ae1d-9f8d0baf4316",
   "metadata": {
    "tags": []
   },
   "outputs": [],
   "source": [
    "#WRITE A PYTHON PROGRAM TO DETERMINE IF A GIVEN NUMBER IS A PERFECT SQUARE USING IF ELSE."
   ]
  },
  {
   "cell_type": "code",
   "execution_count": 23,
   "id": "3be947fc-a2d1-426b-9e8f-d1d0a042a5da",
   "metadata": {},
   "outputs": [
    {
     "name": "stdout",
     "output_type": "stream",
     "text": [
      "Yes,25 is a perfect square.\n"
     ]
    }
   ],
   "source": [
    "def is_perfect_square(num):\n",
    "    if num>=0:\n",
    "        square_root=int(num**0.5)\n",
    "        if square_root*square_root==num:\n",
    "            return \"Yes,{} is a perfect square.\".format(num)\n",
    "        else:\n",
    "            return\"No ,{} is not a perfect square.\".format(num)\n",
    "    else:\n",
    "        return\"No,{} is not a perfect square.\".format(num)\n",
    "number = 25\n",
    "print(is_perfect_square(number))"
   ]
  },
  {
   "cell_type": "code",
   "execution_count": null,
   "id": "a5ce01f7-8d87-4245-81ba-e325122f2471",
   "metadata": {},
   "outputs": [],
   "source": []
  },
  {
   "cell_type": "code",
   "execution_count": null,
   "id": "cca71fc0-113a-4a7a-8a47-508127d662a8",
   "metadata": {},
   "outputs": [],
   "source": []
  },
  {
   "cell_type": "code",
   "execution_count": 6,
   "id": "c60a9aca-6330-4c05-ba6e-471a8c726363",
   "metadata": {
    "tags": []
   },
   "outputs": [],
   "source": [
    "#QUESTION 21"
   ]
  },
  {
   "cell_type": "code",
   "execution_count": 24,
   "id": "f05aae25-cb87-4a34-a016-dfff2ca61bed",
   "metadata": {
    "tags": []
   },
   "outputs": [],
   "source": [
    "# EXPLAIN THE PURPOSE OF THE \"CONTINUE\" AND \"BREAK\" STATEMENTS WITH IF-ELSE LOOPS."
   ]
  },
  {
   "cell_type": "code",
   "execution_count": null,
   "id": "45c4a782-10a3-473b-ba7c-9964a11e4df1",
   "metadata": {},
   "outputs": [],
   "source": [
    "\"\"\"continue and break are used to control the flow of loops.\n",
    "\"continue is used when you want to skip the rest of the code inside a loop for the current iteration and move on \n",
    "to the next one.\"\n",
    "\n",
    "\"break\" is used to completely terminate the loop. It's like saying \"we're done here, let's get out of this loop.\"\n",
    "it's useful when you've found what you're looking for and don't need to continue looping.\"\"\""
   ]
  },
  {
   "cell_type": "code",
   "execution_count": null,
   "id": "299cd9e0-b577-476b-93e8-2af503caa83e",
   "metadata": {},
   "outputs": [],
   "source": []
  },
  {
   "cell_type": "code",
   "execution_count": null,
   "id": "30cad049-3640-4c6f-a19d-3874565372a4",
   "metadata": {},
   "outputs": [],
   "source": []
  },
  {
   "cell_type": "code",
   "execution_count": 8,
   "id": "b94d65b6-cbed-4362-8f15-fcb6a2d47239",
   "metadata": {
    "tags": []
   },
   "outputs": [],
   "source": [
    "#QUESTION 22"
   ]
  },
  {
   "cell_type": "code",
   "execution_count": 9,
   "id": "76026d72-d77e-45e0-a8fd-8936f8f5d26a",
   "metadata": {
    "tags": []
   },
   "outputs": [],
   "source": [
    "# CREATE A PYTHON PROGRAM THAT CALCULATES THE BMI OF A PERSON BASED ON THEIR WEIGHT AND HEIGHT USING IF-ELSE"
   ]
  },
  {
   "cell_type": "code",
   "execution_count": 25,
   "id": "4197c057-334e-4767-8d5f-5a917b0cce72",
   "metadata": {},
   "outputs": [
    {
     "name": "stdout",
     "output_type": "stream",
     "text": [
      "Your BMI is22.86. You have a healthy weight.\n"
     ]
    }
   ],
   "source": [
    "def calculate_bmi(weight,height):\n",
    "    bmi = weight/(height**2)\n",
    "    if bmi<18.5:\n",
    "        return\"Your BMI is {:.2f}.You are underweight.\".format(bmi)\n",
    "    elif bmi>= 18.5 and bmi<25:\n",
    "        return \"Your BMI is{:.2f}. You have a healthy weight.\".format(bmi)\n",
    "    elif bmi>=25 and bmi<30:\n",
    "        return \"Your BMI is {:.2f}.You are overweight.\".format(bmi)\n",
    "    else:\n",
    "        return\"Your BMI is {:.2f}.You are obese.\".format(bmi)\n",
    "weight = 70\n",
    "height = 1.75\n",
    "print(calculate_bmi(weight, height))"
   ]
  },
  {
   "cell_type": "code",
   "execution_count": null,
   "id": "1feb3be0-d0cc-4fce-a72d-68ccb6c4cdad",
   "metadata": {},
   "outputs": [],
   "source": []
  },
  {
   "cell_type": "code",
   "execution_count": null,
   "id": "39f50329-d717-404f-874a-0541889afb34",
   "metadata": {},
   "outputs": [],
   "source": []
  },
  {
   "cell_type": "code",
   "execution_count": 10,
   "id": "ebc340a3-9638-4d3a-81e3-bbd1a77406ed",
   "metadata": {
    "tags": []
   },
   "outputs": [],
   "source": [
    "# QUESTION 23"
   ]
  },
  {
   "cell_type": "code",
   "execution_count": 11,
   "id": "9cdad6ef-8736-4227-8117-2c46cfc4baeb",
   "metadata": {
    "tags": []
   },
   "outputs": [],
   "source": [
    "# HOW CAN YOU USE THE \"FILTER()\" FUNCTION WITH IF-ELSE STATEMENTS TO FILTER ELEMENTS FROM A LIST?"
   ]
  },
  {
   "cell_type": "code",
   "execution_count": 26,
   "id": "d5768e7f-e16f-4204-84ef-47a2d83ff06a",
   "metadata": {},
   "outputs": [
    {
     "name": "stdout",
     "output_type": "stream",
     "text": [
      "[2, 4, 6, 8]\n"
     ]
    }
   ],
   "source": [
    "numbers =[1,2,3,4,5,6,7,8,9]\n",
    "def is_even(n):\n",
    "    if n%2==0:\n",
    "        return True\n",
    "    else:\n",
    "        return False\n",
    "even_numbers=filter(is_even,numbers)\n",
    "print(list(even_numbers))"
   ]
  },
  {
   "cell_type": "code",
   "execution_count": null,
   "id": "223f9fcc-9b3f-43b5-82c0-e422eedcd440",
   "metadata": {},
   "outputs": [],
   "source": []
  },
  {
   "cell_type": "code",
   "execution_count": null,
   "id": "debf2d40-67d1-401b-9fb6-0bf930c6a3a1",
   "metadata": {},
   "outputs": [],
   "source": []
  },
  {
   "cell_type": "code",
   "execution_count": 12,
   "id": "19fa9ce1-a55d-4d0b-ab5d-2d4ec4350d30",
   "metadata": {
    "tags": []
   },
   "outputs": [],
   "source": [
    "#QUESTION 24"
   ]
  },
  {
   "cell_type": "code",
   "execution_count": 13,
   "id": "acef83b7-01d3-4bd6-afb6-a3b26110d4a2",
   "metadata": {
    "tags": []
   },
   "outputs": [],
   "source": [
    "# WRITE A PYTHON PROGRAM TO DETERMINE IF A GIVEN NUMBER IS PRIME OR NOT USING IF-ELSE"
   ]
  },
  {
   "cell_type": "code",
   "execution_count": 27,
   "id": "938cbd41-b885-4510-b8dc-2083394d3cf9",
   "metadata": {},
   "outputs": [
    {
     "name": "stdout",
     "output_type": "stream",
     "text": [
      "The number is prime.\n"
     ]
    }
   ],
   "source": [
    "def is_prime(n):\n",
    "    if n<=1:\n",
    "        return \"The number is not prime.\"\n",
    "    elif n<=3:\n",
    "        return\"The number is prime.\"\n",
    "    elif n%2==0 or n%3==0:\n",
    "        return \"The number is not prime.\"\n",
    "    i=5\n",
    "    while i*i<=n:\n",
    "        \n",
    "        if n%i == 0 or n%(i+2)==0:\n",
    "            return \"The number is not prime.\"\n",
    "        i+=6\n",
    "    return \"The number is prime.\"\n",
    "number = 7 \n",
    "print(is_prime(number))\n",
    "    "
   ]
  },
  {
   "cell_type": "code",
   "execution_count": null,
   "id": "88046c8f-b155-4906-9e02-9d299fed3a98",
   "metadata": {},
   "outputs": [],
   "source": []
  },
  {
   "cell_type": "code",
   "execution_count": null,
   "id": "82b0f16a-bd26-4b20-93f7-4f99dafcb7be",
   "metadata": {},
   "outputs": [],
   "source": []
  },
  {
   "cell_type": "code",
   "execution_count": 15,
   "id": "9a81fdae-cc0d-4de3-acd0-171d01b6cff0",
   "metadata": {
    "tags": []
   },
   "outputs": [],
   "source": [
    "#MAP:-"
   ]
  },
  {
   "cell_type": "code",
   "execution_count": 16,
   "id": "1933b33e-4673-4766-b863-baa1915d5098",
   "metadata": {
    "tags": []
   },
   "outputs": [],
   "source": [
    "#QUESTION 1"
   ]
  },
  {
   "cell_type": "code",
   "execution_count": 17,
   "id": "51fe86ec-c023-4832-afce-b9804a991712",
   "metadata": {
    "tags": []
   },
   "outputs": [],
   "source": [
    "#EXPLAIN THE PURPOSE OF THE 'MAP()' FUNCTION IN PYTHON AND PROVIDE AN EXAMPLE OF HOW IT CAN BE USED TO APPLY A FUNCTION TO EACH ELEMENT OF AN ITERABLE."
   ]
  },
  {
   "cell_type": "code",
   "execution_count": 3,
   "id": "4d992964-42b6-4587-b2b9-1e407bbeaf24",
   "metadata": {
    "tags": []
   },
   "outputs": [
    {
     "name": "stdout",
     "output_type": "stream",
     "text": [
      "[1, 4, 9, 16, 25]\n"
     ]
    }
   ],
   "source": [
    "numbers=[1,2,3,4,5]\n",
    "def square(n):\n",
    "    return n**2\n",
    "squares = map(square,numbers)\n",
    "print(list(squares))"
   ]
  },
  {
   "cell_type": "code",
   "execution_count": null,
   "id": "c37f5387-c047-4400-a4e2-b9511e587989",
   "metadata": {},
   "outputs": [],
   "source": []
  },
  {
   "cell_type": "code",
   "execution_count": null,
   "id": "4b23fa87-613f-4403-b22c-f03fdf783012",
   "metadata": {},
   "outputs": [],
   "source": []
  },
  {
   "cell_type": "code",
   "execution_count": 4,
   "id": "feda34f1-7782-44fd-8843-1f219a875c03",
   "metadata": {
    "tags": []
   },
   "outputs": [],
   "source": [
    "#QUESTION 2"
   ]
  },
  {
   "cell_type": "code",
   "execution_count": 5,
   "id": "dd6c3922-bf0d-4bfd-8ba0-8ac36e2ba63d",
   "metadata": {
    "tags": []
   },
   "outputs": [],
   "source": [
    "# WRITE A PYTHON PROGRAM THAT USES THE 'MAP()' FUNCTION TO SQUARE EACH ELEMENT OF A LIST A LIST OF NUMBERS."
   ]
  },
  {
   "cell_type": "code",
   "execution_count": 6,
   "id": "70b95be2-3d66-4c44-b887-e0c339f94181",
   "metadata": {
    "tags": []
   },
   "outputs": [
    {
     "name": "stdout",
     "output_type": "stream",
     "text": [
      "[1, 4, 9, 16, 25]\n"
     ]
    }
   ],
   "source": [
    "numbers = [1,2,3,4,5]\n",
    "def square(n):\n",
    "    return n**2\n",
    "squared_numbers = list(map(square,numbers))\n",
    "print(squared_numbers)\n"
   ]
  },
  {
   "cell_type": "code",
   "execution_count": null,
   "id": "1b65b97e-0cfa-4da5-ab9d-381b069730f4",
   "metadata": {},
   "outputs": [],
   "source": []
  },
  {
   "cell_type": "code",
   "execution_count": null,
   "id": "11c2ee46-b2a9-4821-a93e-f6057128103a",
   "metadata": {},
   "outputs": [],
   "source": []
  },
  {
   "cell_type": "code",
   "execution_count": 7,
   "id": "d53a5347-adeb-4834-8821-2be9a83b0c55",
   "metadata": {
    "tags": []
   },
   "outputs": [],
   "source": [
    "#QUESTION 3"
   ]
  },
  {
   "cell_type": "code",
   "execution_count": 8,
   "id": "ed41921e-fd59-4c6c-8deb-bd2ada3b68ae",
   "metadata": {
    "tags": []
   },
   "outputs": [],
   "source": [
    "# HOW DOES THE 'MAP()' FUNCTION DIFFER FROM A LIST COMPREHENSION IN PYTHON, AND WHEN WOULD YOU CHOOSE ONE OVER THE OTHER?"
   ]
  },
  {
   "cell_type": "code",
   "execution_count": 15,
   "id": "7281609a-1181-43bd-86be-5e8863235caa",
   "metadata": {
    "tags": []
   },
   "outputs": [
    {
     "name": "stdout",
     "output_type": "stream",
     "text": [
      "[1, 9, 25, 49, 81]\n"
     ]
    }
   ],
   "source": [
    "squares = [n**2 for n in range(1,11)if n%2==1]\n",
    "print(squares)"
   ]
  },
  {
   "cell_type": "code",
   "execution_count": null,
   "id": "b2211dd7-9952-4262-a92e-63dbfa55dcd8",
   "metadata": {},
   "outputs": [],
   "source": []
  },
  {
   "cell_type": "code",
   "execution_count": null,
   "id": "a5ba8038-ecb0-4ed3-9284-7b9900e083f5",
   "metadata": {},
   "outputs": [],
   "source": []
  },
  {
   "cell_type": "code",
   "execution_count": 16,
   "id": "d13c00c0-8fb9-4032-a83e-198e6039a8f9",
   "metadata": {
    "tags": []
   },
   "outputs": [],
   "source": [
    "#QUESTION 4"
   ]
  },
  {
   "cell_type": "code",
   "execution_count": 20,
   "id": "ccd9489c-516e-4759-82e1-fe46179a50ac",
   "metadata": {
    "tags": []
   },
   "outputs": [],
   "source": [
    "#CREATE A PYTHON PROGRAM THAT USES THE 'MAP()' FUNCTION TO CONVERT A LIST OF NAMES TO UPPERCASE."
   ]
  },
  {
   "cell_type": "code",
   "execution_count": 19,
   "id": "e28fa629-7dc6-49af-903e-32e605fefa3e",
   "metadata": {
    "tags": []
   },
   "outputs": [
    {
     "name": "stdout",
     "output_type": "stream",
     "text": [
      "['JOHN', 'EMMA', 'LIAM', 'OLIVIA']\n"
     ]
    }
   ],
   "source": [
    "names=[\"john\",\"emma\",\"liam\",\"olivia\"]\n",
    "upper_names=list(map(str.upper,names))\n",
    "print(upper_names)"
   ]
  },
  {
   "cell_type": "code",
   "execution_count": null,
   "id": "0699362b-7a90-48a2-82c5-4c7f2afa4b37",
   "metadata": {},
   "outputs": [],
   "source": []
  },
  {
   "cell_type": "code",
   "execution_count": null,
   "id": "f63cd230-d887-4408-8fba-1064344dcc24",
   "metadata": {},
   "outputs": [],
   "source": []
  },
  {
   "cell_type": "code",
   "execution_count": 22,
   "id": "5568248f-0854-4291-96eb-0cc5693c515a",
   "metadata": {
    "tags": []
   },
   "outputs": [],
   "source": [
    "#QUESTION 5"
   ]
  },
  {
   "cell_type": "code",
   "execution_count": 23,
   "id": "7a244538-0a05-4059-af59-6af661ce7a2d",
   "metadata": {
    "tags": []
   },
   "outputs": [],
   "source": [
    "#WRITE A PYTHON PROGRAM THAT USES THE 'MAP()' FUNCTION TO CALCULATE THE LENGTH OF EACH WORD IN A LIST OF STRINGS."
   ]
  },
  {
   "cell_type": "code",
   "execution_count": 24,
   "id": "ee58a998-35ba-47ae-b268-2621ac03a9e2",
   "metadata": {
    "tags": []
   },
   "outputs": [
    {
     "name": "stdout",
     "output_type": "stream",
     "text": [
      "[5, 5, 3, 3, 3]\n"
     ]
    }
   ],
   "source": [
    "strings=[\"Hello\",\"world\",\"how\",\"are\",\"you\"]\n",
    "word_lengths = list(map(len,strings))\n",
    "print(word_lengths)"
   ]
  },
  {
   "cell_type": "code",
   "execution_count": null,
   "id": "031f9b0f-6249-4d02-9528-8c6cb2f95a68",
   "metadata": {},
   "outputs": [],
   "source": []
  },
  {
   "cell_type": "code",
   "execution_count": null,
   "id": "7b9feff9-4431-482c-8745-1b505b5e236f",
   "metadata": {},
   "outputs": [],
   "source": []
  },
  {
   "cell_type": "code",
   "execution_count": 25,
   "id": "de2ce35f-9d25-4908-83df-786f06776628",
   "metadata": {
    "tags": []
   },
   "outputs": [],
   "source": [
    "#QUESTION 6"
   ]
  },
  {
   "cell_type": "code",
   "execution_count": 26,
   "id": "6be32e02-f969-4ea3-b7e7-6edcd44c031e",
   "metadata": {
    "tags": []
   },
   "outputs": [],
   "source": [
    "#HOW CAN YOU USE THE MAP(0 FUNCTION TO APPLY A CUSTOM FUNCTION TO ELEMENTS OF MULTIPLE LISTS SIMULTANEOUSLY IN PYTHON"
   ]
  },
  {
   "cell_type": "code",
   "execution_count": 27,
   "id": "bec24688-15a4-4180-af12-50fcc77912ee",
   "metadata": {
    "tags": []
   },
   "outputs": [
    {
     "name": "stdout",
     "output_type": "stream",
     "text": [
      "[5, 7, 9]\n"
     ]
    }
   ],
   "source": [
    "def combine_lists(a,b):\n",
    "    return a+b\n",
    "list1=[1,2,3]\n",
    "list2=[4,5,6]\n",
    "combined_lists=list(map(combine_lists,list1,list2))\n",
    "print(combined_lists)"
   ]
  },
  {
   "cell_type": "code",
   "execution_count": null,
   "id": "2441586f-eba6-44ba-8b50-51d5dfe510d7",
   "metadata": {},
   "outputs": [],
   "source": []
  },
  {
   "cell_type": "code",
   "execution_count": null,
   "id": "58333912-6dec-4c8f-a343-08fc23131227",
   "metadata": {},
   "outputs": [],
   "source": []
  },
  {
   "cell_type": "code",
   "execution_count": 28,
   "id": "e8db8950-feaa-40e3-ba3b-ffc5a6e5ad83",
   "metadata": {
    "tags": []
   },
   "outputs": [],
   "source": [
    "#QUESTION 7"
   ]
  },
  {
   "cell_type": "code",
   "execution_count": 29,
   "id": "22bf2313-6528-4c73-8e2f-a102c1a60217",
   "metadata": {
    "tags": []
   },
   "outputs": [],
   "source": [
    "#CREATE A PYTHON PROGRAM THAT USES 'MAP()' TO CONVERT A LIST OF TEMPERATURES FROM CELSIUS TO FAHRENHEIT."
   ]
  },
  {
   "cell_type": "code",
   "execution_count": 30,
   "id": "3b678131-96a0-484f-9eb3-b54d2bea3fcb",
   "metadata": {
    "tags": []
   },
   "outputs": [
    {
     "name": "stdout",
     "output_type": "stream",
     "text": [
      "[77.0, 86.0, 59.0, 68.0]\n"
     ]
    }
   ],
   "source": [
    "def celsius_to_fahrenheit(celsius):\n",
    "    return(celsius*9/5)+32\n",
    "celsius_temperatures=[25,30,15,20]\n",
    "fahrenheit_temperatures=list(map(celsius_to_fahrenheit,celsius_temperatures))\n",
    "print(fahrenheit_temperatures)"
   ]
  },
  {
   "cell_type": "code",
   "execution_count": null,
   "id": "2e779239-cd14-4267-86da-d2ab4f5570fc",
   "metadata": {},
   "outputs": [],
   "source": []
  },
  {
   "cell_type": "code",
   "execution_count": null,
   "id": "2a9311e2-444d-488f-9345-7e8f99b05f00",
   "metadata": {},
   "outputs": [],
   "source": []
  },
  {
   "cell_type": "code",
   "execution_count": 31,
   "id": "6e44d055-63e6-4f94-829b-0e077661c810",
   "metadata": {
    "tags": []
   },
   "outputs": [],
   "source": [
    "#QUESTION 8"
   ]
  },
  {
   "cell_type": "code",
   "execution_count": 32,
   "id": "48eb1696-6864-431e-92fa-4e6aca3f32f8",
   "metadata": {
    "tags": []
   },
   "outputs": [],
   "source": [
    "#WRITE A PYTHON PROGRAM THAT USES THE 'MAP()' FUNCTION TO ROUND EACH ELEMENT OF A LIST OF FLOATING-POINT NUMBERS TO THE NEAREST INTEGER."
   ]
  },
  {
   "cell_type": "code",
   "execution_count": 33,
   "id": "0ed087c1-c2bd-49ac-9da8-9591b797fe96",
   "metadata": {
    "tags": []
   },
   "outputs": [
    {
     "name": "stdout",
     "output_type": "stream",
     "text": [
      "[3, 3, 2, 5, 1]\n"
     ]
    }
   ],
   "source": [
    "float_numbers=[3.14,2.718,1.618,4.669,0.577]\n",
    "rounded_numbers = list(map(round,float_numbers))\n",
    "print(rounded_numbers)"
   ]
  },
  {
   "cell_type": "code",
   "execution_count": null,
   "id": "3c26bfc6-060f-4a3b-a75e-b6de901578c0",
   "metadata": {},
   "outputs": [],
   "source": []
  },
  {
   "cell_type": "code",
   "execution_count": null,
   "id": "b74aeaff-63a1-4bee-b03d-6224904f3670",
   "metadata": {},
   "outputs": [],
   "source": []
  },
  {
   "cell_type": "code",
   "execution_count": 34,
   "id": "bba9887a-2c4d-4333-a644-dc97025940b9",
   "metadata": {
    "tags": []
   },
   "outputs": [],
   "source": [
    "#REDUCE:-"
   ]
  },
  {
   "cell_type": "code",
   "execution_count": 35,
   "id": "6a70f29c-1538-4e0e-a2f7-912131c4f717",
   "metadata": {
    "tags": []
   },
   "outputs": [],
   "source": [
    "#QUESTION 1"
   ]
  },
  {
   "cell_type": "code",
   "execution_count": 36,
   "id": "a58883c3-1343-4a81-81ed-1a591a5e0afc",
   "metadata": {
    "tags": []
   },
   "outputs": [],
   "source": [
    "# WHAT IS THE 'REDUCE()'FUNCTION IN PYTHON,AND WHAT MODULE SHOULD SHOULD YOU IMPORT TO USE IT PROVIDE AN EXAMPLE OF ITS BASIC USAGE."
   ]
  },
  {
   "cell_type": "code",
   "execution_count": 1,
   "id": "474e52b0-95df-4565-967a-6b99372c17c3",
   "metadata": {},
   "outputs": [
    {
     "name": "stdout",
     "output_type": "stream",
     "text": [
      "15\n"
     ]
    }
   ],
   "source": [
    "from functools import reduce\n",
    "numbers = [1,2,3,4,5]\n",
    "def add(x,y):\n",
    "    return x+y\n",
    "result=reduce(add,numbers)\n",
    "print(result)\n"
   ]
  },
  {
   "cell_type": "code",
   "execution_count": null,
   "id": "15630216-0bb4-4177-ab58-660828a73076",
   "metadata": {},
   "outputs": [],
   "source": []
  },
  {
   "cell_type": "code",
   "execution_count": null,
   "id": "53be5c9f-9d67-42d6-ba30-dbeb3a61beb4",
   "metadata": {},
   "outputs": [],
   "source": []
  },
  {
   "cell_type": "code",
   "execution_count": 37,
   "id": "467027dc-c1f8-4d83-a5ef-b937ebec75a0",
   "metadata": {
    "tags": []
   },
   "outputs": [],
   "source": [
    "#QUESTION 2"
   ]
  },
  {
   "cell_type": "code",
   "execution_count": 38,
   "id": "5d889022-04ed-4bc0-b6bd-d819d9378ab6",
   "metadata": {
    "tags": []
   },
   "outputs": [],
   "source": [
    "#WRITE A PYTHON PROGRAM THAT USES THE 'REDUCE()' FUNCTION TO FIND THE PRODUCT OF ALL ELEMENTS INA LIST."
   ]
  },
  {
   "cell_type": "code",
   "execution_count": 2,
   "id": "952b583f-851f-4114-9186-49e5792e58a3",
   "metadata": {},
   "outputs": [
    {
     "name": "stdout",
     "output_type": "stream",
     "text": [
      "The product of the list is: 120\n"
     ]
    }
   ],
   "source": [
    "from functools import reduce\n",
    "numbers = [2,3,4,5]\n",
    "def multiply(x,y):\n",
    "    return x*y\n",
    "product = reduce(multiply,numbers)\n",
    "print(\"The product of the list is:\",product)"
   ]
  },
  {
   "cell_type": "code",
   "execution_count": null,
   "id": "41361c36-bc0f-4b9c-86bb-ee821a1067ba",
   "metadata": {},
   "outputs": [],
   "source": []
  },
  {
   "cell_type": "code",
   "execution_count": null,
   "id": "f7e956af-e8e4-4302-a965-79d2550fb013",
   "metadata": {},
   "outputs": [],
   "source": []
  },
  {
   "cell_type": "code",
   "execution_count": 39,
   "id": "424db2a1-78f8-47fb-929b-b7f48ec16656",
   "metadata": {
    "tags": []
   },
   "outputs": [],
   "source": [
    "#QUESTION 3"
   ]
  },
  {
   "cell_type": "code",
   "execution_count": 40,
   "id": "ca3fa42d-5f03-4457-bd04-1e67cd4f033f",
   "metadata": {
    "tags": []
   },
   "outputs": [],
   "source": [
    "#CREATE A PYTHON PROGRAM THAT USES REDUCE() TO FIND THE MAXIMUM ELEMENT IN A LIST OF NUMBERS."
   ]
  },
  {
   "cell_type": "code",
   "execution_count": 4,
   "id": "03e5f1f2-6fe8-409f-94fc-e0cef0f94069",
   "metadata": {},
   "outputs": [
    {
     "name": "stdout",
     "output_type": "stream",
     "text": [
      "The maximum element in the list is: 9\n"
     ]
    }
   ],
   "source": [
    "from functools import reduce\n",
    "numbers=[5,2,8,3,1,9]\n",
    "def find_max(x,y):\n",
    "    return max(x,y)\n",
    "maximum = reduce(find_max,numbers)\n",
    "print(\"The maximum element in the list is:\",maximum)"
   ]
  },
  {
   "cell_type": "code",
   "execution_count": null,
   "id": "0435959e-690c-40dc-87fb-8b944ca27128",
   "metadata": {},
   "outputs": [],
   "source": []
  },
  {
   "cell_type": "code",
   "execution_count": null,
   "id": "76226563-df47-41fb-b6d0-e02b0cb1f91d",
   "metadata": {},
   "outputs": [],
   "source": []
  },
  {
   "cell_type": "code",
   "execution_count": 41,
   "id": "b953d3ee-e143-4417-af72-741af60f3030",
   "metadata": {
    "tags": []
   },
   "outputs": [],
   "source": [
    "#QUESTION 4"
   ]
  },
  {
   "cell_type": "code",
   "execution_count": 42,
   "id": "86111063-f3d4-4482-be25-b32233f578c7",
   "metadata": {
    "tags": []
   },
   "outputs": [],
   "source": [
    "# HOW CAN YOU USE THE 'REDUCE()' FUNCTION TO CONCATENATE A LIST OF STRINGS INTO A SINGLE STRING"
   ]
  },
  {
   "cell_type": "code",
   "execution_count": 7,
   "id": "b0567a5d-effe-4c69-9d3f-cf815cd8caa4",
   "metadata": {},
   "outputs": [
    {
     "name": "stdout",
     "output_type": "stream",
     "text": [
      "The concatenated string is: Helloworld!\n"
     ]
    }
   ],
   "source": [
    "from functools import reduce\n",
    "strings=[\"Hello\",\"\",\"world\",\"!\"]\n",
    "concatenated_string= reduce(lambda x,y:x+y,strings)\n",
    "print(\"The concatenated string is:\",concatenated_string)"
   ]
  },
  {
   "cell_type": "code",
   "execution_count": null,
   "id": "467c5da3-64c9-42e7-971a-544b13ca6767",
   "metadata": {},
   "outputs": [],
   "source": []
  },
  {
   "cell_type": "code",
   "execution_count": null,
   "id": "a51a5f29-f192-4bf9-b4f2-21ceab4966c5",
   "metadata": {},
   "outputs": [],
   "source": []
  },
  {
   "cell_type": "code",
   "execution_count": 43,
   "id": "e1ef206c-ca77-4e4b-8e77-72fee3182f0a",
   "metadata": {
    "tags": []
   },
   "outputs": [],
   "source": [
    "#QUESTION 5"
   ]
  },
  {
   "cell_type": "code",
   "execution_count": 44,
   "id": "6d73659f-725c-4499-86bb-0338bd143e8f",
   "metadata": {
    "tags": []
   },
   "outputs": [],
   "source": [
    "#WRITE A PYTHON PROGRAM THAT CALCULATES THE FACTORIAL OF A NUMBER USING THE REDUCE() FUNCTION."
   ]
  },
  {
   "cell_type": "code",
   "execution_count": 9,
   "id": "640d2ab0-992c-4275-9eb2-310376d3ea81",
   "metadata": {},
   "outputs": [
    {
     "name": "stdout",
     "output_type": "stream",
     "text": [
      "The factorial of 5 is: 120\n"
     ]
    }
   ],
   "source": [
    "from functools import reduce\n",
    "number = 5\n",
    "factorial= reduce(lambda x,y:x*y,range(1,number+1))\n",
    "print(\"The factorial of\",number, \"is:\",factorial)"
   ]
  },
  {
   "cell_type": "code",
   "execution_count": null,
   "id": "3efccc8d-1f9e-4494-88f9-f3087c009493",
   "metadata": {},
   "outputs": [],
   "source": []
  },
  {
   "cell_type": "code",
   "execution_count": null,
   "id": "cbbee1b3-39c4-42a9-a9be-9ad772771b5c",
   "metadata": {},
   "outputs": [],
   "source": []
  },
  {
   "cell_type": "code",
   "execution_count": 45,
   "id": "6534fe1f-1287-4717-af9f-598305f97c55",
   "metadata": {
    "tags": []
   },
   "outputs": [],
   "source": [
    "# QUESTION 6"
   ]
  },
  {
   "cell_type": "code",
   "execution_count": 46,
   "id": "eb455329-21be-4301-8c9d-80d56d41ac1d",
   "metadata": {
    "tags": []
   },
   "outputs": [],
   "source": [
    "# CREATE A PYTHON PROGRAM THAT USES REDUCE() TO FIND THE GCD OF A LIST OF NUMBERS."
   ]
  },
  {
   "cell_type": "code",
   "execution_count": 10,
   "id": "f0b57719-58b7-49d9-9f51-0907867e9b32",
   "metadata": {},
   "outputs": [
    {
     "name": "stdout",
     "output_type": "stream",
     "text": [
      "The GCD of the numbers [12, 18, 24, 30] is: 6\n"
     ]
    }
   ],
   "source": [
    "from functools import reduce\n",
    "from math import gcd\n",
    "numbers = [12,18,24,30]\n",
    "gcd_result = reduce(gcd,numbers)\n",
    "print(\"The GCD of the numbers\",numbers,\"is:\",gcd_result)"
   ]
  },
  {
   "cell_type": "code",
   "execution_count": null,
   "id": "225f576e-8c1f-46c6-8628-bb4ff31fb235",
   "metadata": {},
   "outputs": [],
   "source": []
  },
  {
   "cell_type": "code",
   "execution_count": null,
   "id": "740f866f-abea-498e-84ed-81b2b51c54aa",
   "metadata": {},
   "outputs": [],
   "source": []
  },
  {
   "cell_type": "code",
   "execution_count": 47,
   "id": "d7394b03-80f6-475d-be95-f0df91cf90c7",
   "metadata": {
    "tags": []
   },
   "outputs": [],
   "source": [
    "# QUESTION 7"
   ]
  },
  {
   "cell_type": "code",
   "execution_count": 48,
   "id": "613427bc-31d7-412a-99da-30e4e8630823",
   "metadata": {
    "tags": []
   },
   "outputs": [],
   "source": [
    "# WRITE A PYTHON PROGRAM THAT USES THE REDUCE() FUNCTION TO FIND THE SUM OF THE DIGITS OF A GIVEN NUMBER."
   ]
  },
  {
   "cell_type": "code",
   "execution_count": 11,
   "id": "d852fe79-b77b-4258-bb3e-3a6213d5b412",
   "metadata": {},
   "outputs": [
    {
     "name": "stdout",
     "output_type": "stream",
     "text": [
      "The sum of the digit of 12345 is: 15\n"
     ]
    }
   ],
   "source": [
    "from functools import reduce\n",
    "number = 12345\n",
    "digit_sum = reduce(lambda x,y:int(x)+int(y),str(number))\n",
    "print(\"The sum of the digit of\",number, \"is:\",digit_sum)"
   ]
  },
  {
   "cell_type": "code",
   "execution_count": null,
   "id": "ba2c1462-56f5-4269-8b60-6322f9257cab",
   "metadata": {},
   "outputs": [],
   "source": []
  },
  {
   "cell_type": "code",
   "execution_count": null,
   "id": "ec657b1f-d92b-4f7b-9301-00ffc1cdaf7e",
   "metadata": {},
   "outputs": [],
   "source": []
  },
  {
   "cell_type": "code",
   "execution_count": 49,
   "id": "7402beb0-f745-44a9-baf2-b979f2ce4267",
   "metadata": {
    "tags": []
   },
   "outputs": [],
   "source": [
    "# FILTER:-"
   ]
  },
  {
   "cell_type": "code",
   "execution_count": 50,
   "id": "5f9d0305-fa22-4427-a0f4-625e5a60bc8f",
   "metadata": {
    "tags": []
   },
   "outputs": [],
   "source": [
    "#QUESTION 1"
   ]
  },
  {
   "cell_type": "code",
   "execution_count": 52,
   "id": "6599fada-8a1d-4b4d-a821-597d5e5c42d8",
   "metadata": {
    "tags": []
   },
   "outputs": [],
   "source": [
    "#EXPLAIN THE PURPOSE OF THE 'FILTER()' FUNCTION IN PYTHON AND PROVIDE AN EXAMPLE OF HOW IT CAN BE USED TO FILTER ELEMENTS FROM AN ITERABLE."
   ]
  },
  {
   "cell_type": "code",
   "execution_count": 12,
   "id": "f4688aef-1666-4861-bbb1-e5edbac8a114",
   "metadata": {},
   "outputs": [
    {
     "name": "stdout",
     "output_type": "stream",
     "text": [
      "The even numbers are: [2, 4, 6, 8]\n"
     ]
    }
   ],
   "source": [
    "numbers =[1,2,3,4,5,6,7,8,9]\n",
    "def is_even(n):\n",
    "    return n%2==0\n",
    "even_numbers=filter(is_even,numbers)\n",
    "print(\"The even numbers are:\",list(even_numbers))"
   ]
  },
  {
   "cell_type": "code",
   "execution_count": null,
   "id": "87494a58-365d-4ad0-a96c-b0336b3acf38",
   "metadata": {},
   "outputs": [],
   "source": []
  },
  {
   "cell_type": "code",
   "execution_count": null,
   "id": "76a6ec0f-7e46-4a36-b58f-1183fea2437c",
   "metadata": {},
   "outputs": [],
   "source": []
  },
  {
   "cell_type": "code",
   "execution_count": 53,
   "id": "1dfa0f35-461d-4ad2-ac17-fe511c769314",
   "metadata": {
    "tags": []
   },
   "outputs": [],
   "source": [
    "# QUESTION 2"
   ]
  },
  {
   "cell_type": "code",
   "execution_count": 54,
   "id": "762fd3da-fbe3-4694-bac8-504218c1842f",
   "metadata": {
    "tags": []
   },
   "outputs": [],
   "source": [
    "# WRITE A PYTHON PROGRAM THAT USES THE 'FILTER()' FUNCTION TO SELECT EVEN NUMBERS FROM A LIST OF INTEGERS."
   ]
  },
  {
   "cell_type": "code",
   "execution_count": 13,
   "id": "5ef9cd51-fefc-4824-b3d1-aeaaccdd530b",
   "metadata": {},
   "outputs": [
    {
     "name": "stdout",
     "output_type": "stream",
     "text": [
      "The even numbers are: [2, 4, 6, 8]\n"
     ]
    }
   ],
   "source": [
    "numbers={1,2,3,4,5,6,7,8,9}\n",
    "even_numbers=list(filter(lambda x:x%2==0,numbers))\n",
    "print(\"The even numbers are:\",even_numbers)"
   ]
  },
  {
   "cell_type": "code",
   "execution_count": null,
   "id": "66e52fa4-fd67-4df7-9838-bf12b77f7008",
   "metadata": {},
   "outputs": [],
   "source": []
  },
  {
   "cell_type": "code",
   "execution_count": null,
   "id": "3defe148-5602-4d90-b7c8-2cbac605c3a0",
   "metadata": {},
   "outputs": [],
   "source": []
  },
  {
   "cell_type": "code",
   "execution_count": 55,
   "id": "6facbe4c-b692-4a09-bfa2-b871a743015a",
   "metadata": {
    "tags": []
   },
   "outputs": [],
   "source": [
    "#QUESTION 3"
   ]
  },
  {
   "cell_type": "code",
   "execution_count": 56,
   "id": "3489b8a6-9bc7-4836-a02d-5f9a5ead14ca",
   "metadata": {
    "tags": []
   },
   "outputs": [],
   "source": [
    "# WRITE A PYTHON PROGRAM THAT USES THE 'FILTER()' FUNCTION TO SELECT NAMES THAT START WITH A SPECIFIC LETTER FROM A LIST OF STRINGS"
   ]
  },
  {
   "cell_type": "code",
   "execution_count": 15,
   "id": "b175fabe-ae1b-43f1-8fc2-beb8ccf3221e",
   "metadata": {},
   "outputs": [
    {
     "name": "stdout",
     "output_type": "stream",
     "text": [
      "The names that start with A are: ['Alice']\n"
     ]
    }
   ],
   "source": [
    "names=[\"Alice\",\"Bob\",\"Charlie\",\"David\",\"Eve\",\"Frank\"]\n",
    "letter =\"A\"\n",
    "filtered_names=list(filter(lambda name:name.startswith(letter),names))\n",
    "print(\"The names that start with\",letter,\"are:\",filtered_names)"
   ]
  },
  {
   "cell_type": "code",
   "execution_count": null,
   "id": "911d5df0-79a3-4cc5-96fc-e4916d435028",
   "metadata": {},
   "outputs": [],
   "source": []
  },
  {
   "cell_type": "code",
   "execution_count": null,
   "id": "73cde0d5-143c-4278-94e2-f4cc28e054d2",
   "metadata": {},
   "outputs": [],
   "source": []
  },
  {
   "cell_type": "code",
   "execution_count": 57,
   "id": "2c3710be-1482-4263-a0e5-6df777d91d53",
   "metadata": {
    "tags": []
   },
   "outputs": [],
   "source": [
    "#QUESTION 4"
   ]
  },
  {
   "cell_type": "code",
   "execution_count": 58,
   "id": "fa6a1e33-e20f-45b5-974c-c750411ebd84",
   "metadata": {
    "tags": []
   },
   "outputs": [],
   "source": [
    "# WRITE A PYTHON PROGRAM THAT USES THE 'FILTER()' FUNCTION TO SELECT PRIME NUMBERS FROM A LIST OF INTEGERS"
   ]
  },
  {
   "cell_type": "code",
   "execution_count": 16,
   "id": "ea06a57a-fc6e-4728-8d02-b1df41d1af50",
   "metadata": {},
   "outputs": [
    {
     "name": "stdout",
     "output_type": "stream",
     "text": [
      "The prime number are: [2, 3, 5, 7, 11]\n"
     ]
    }
   ],
   "source": [
    "def is_prime(n):\n",
    "    if n<=1:\n",
    "        return False\n",
    "    for i in range(2,int(n**0.5)+1):\n",
    "        if n%i==0:\n",
    "            return False\n",
    "    return True\n",
    "numbers=[2,3,4,5,6,7,8,9,10,11]\n",
    "prime_numbers=list(filter(is_prime,numbers))\n",
    "print(\"The prime number are:\",prime_numbers)"
   ]
  },
  {
   "cell_type": "code",
   "execution_count": null,
   "id": "ed92de2f-90f8-4e3c-8e73-3d1e09a719da",
   "metadata": {},
   "outputs": [],
   "source": []
  },
  {
   "cell_type": "code",
   "execution_count": null,
   "id": "006e8993-7e5e-487c-818c-8047b42b6710",
   "metadata": {},
   "outputs": [],
   "source": []
  },
  {
   "cell_type": "code",
   "execution_count": 59,
   "id": "58ac0754-d88d-4802-8477-ae40429d2fcc",
   "metadata": {
    "tags": []
   },
   "outputs": [],
   "source": [
    "#QUESTION 5"
   ]
  },
  {
   "cell_type": "code",
   "execution_count": 60,
   "id": "56fbe908-f923-457a-a91b-a960b69b6fc8",
   "metadata": {
    "tags": []
   },
   "outputs": [],
   "source": [
    "#HOW CAN YOU THE 'FILTER()' FUNCTION TO REMOVE NONE VALUES FROM A LIST IN PYTHON"
   ]
  },
  {
   "cell_type": "code",
   "execution_count": 17,
   "id": "652f06fb-9646-459a-8f6a-cf85e85bb3a6",
   "metadata": {},
   "outputs": [
    {
     "name": "stdout",
     "output_type": "stream",
     "text": [
      "The list without None values: [1, 3, 5, 7, 9]\n"
     ]
    }
   ],
   "source": [
    "values=[1,None,3,None,5,None,7,None,9]\n",
    "filtered_values=list(filter(bool,values))\n",
    "print(\"The list without None values:\",filtered_values)"
   ]
  },
  {
   "cell_type": "code",
   "execution_count": null,
   "id": "6c53b691-ed3d-476a-b367-afd7dbc9e71d",
   "metadata": {},
   "outputs": [],
   "source": []
  },
  {
   "cell_type": "code",
   "execution_count": null,
   "id": "9044adf7-62a8-4973-9be2-99d92460684d",
   "metadata": {},
   "outputs": [],
   "source": []
  },
  {
   "cell_type": "code",
   "execution_count": 61,
   "id": "725a05e6-cf5e-460d-9115-4d06e2edebd5",
   "metadata": {
    "tags": []
   },
   "outputs": [],
   "source": [
    "#QUESTION 6"
   ]
  },
  {
   "cell_type": "code",
   "execution_count": 62,
   "id": "e98c2edf-e942-4065-948d-0416e617de65",
   "metadata": {
    "tags": []
   },
   "outputs": [],
   "source": [
    "# CREATE A PYTHON PROGRAM THAT USES 'FILTER()' TO SELECT WORDS LONGER THAT A CERTAIN LENGTH FROM A LIST OF STRING"
   ]
  },
  {
   "cell_type": "code",
   "execution_count": 18,
   "id": "8c7cd83c-efe7-4e72-ae2b-128ba3061b3b",
   "metadata": {},
   "outputs": [
    {
     "name": "stdout",
     "output_type": "stream",
     "text": [
      "The words longer than 5 characters are: ['Snapchat', 'filter', 'Python', 'program', 'length', 'strings']\n"
     ]
    }
   ],
   "source": [
    "def is_longer_than(word,length):\n",
    "    return len(word)>length\n",
    "words=['Snapchat','filter','Python','program','word','length','list','strings']\n",
    "long_words=list(filter(lambda word:is_longer_than(word,5),words))\n",
    "print(\"The words longer than 5 characters are:\",long_words)"
   ]
  },
  {
   "cell_type": "code",
   "execution_count": null,
   "id": "0bf7a376-bdc3-4b05-91a7-3dc8074960d6",
   "metadata": {},
   "outputs": [],
   "source": []
  },
  {
   "cell_type": "code",
   "execution_count": null,
   "id": "5f693ddc-6317-47b4-837a-d6023e675101",
   "metadata": {},
   "outputs": [],
   "source": []
  },
  {
   "cell_type": "code",
   "execution_count": 63,
   "id": "d8168be4-fa26-4572-a633-55b15ebc0670",
   "metadata": {
    "tags": []
   },
   "outputs": [],
   "source": [
    "#QUESTION 7"
   ]
  },
  {
   "cell_type": "code",
   "execution_count": 64,
   "id": "94127332-d379-4d9f-897d-6fef6c1995af",
   "metadata": {
    "tags": []
   },
   "outputs": [],
   "source": [
    "# WRITE A PYTHON PROGRAM THAT USES THE 'FILTER()' FUNCTION TO SELECT ELEMENTS GREATER THAT A SPECIFIED THRESHOLD  FROM A LIST OF VALUES."
   ]
  },
  {
   "cell_type": "code",
   "execution_count": 19,
   "id": "29fbe245-8911-43ae-bbca-6d8df9bf0f7c",
   "metadata": {},
   "outputs": [
    {
     "name": "stdout",
     "output_type": "stream",
     "text": [
      "The values grater than 50 are: [60, 70, 80, 90, 100]\n"
     ]
    }
   ],
   "source": [
    "values=[10,20,30,40,50,60,70,80,90,100]\n",
    "threshold=50\n",
    "greater_values=list(filter(lambda value: value> threshold,values))\n",
    "print(\"The values grater than 50 are:\",greater_values)"
   ]
  },
  {
   "cell_type": "code",
   "execution_count": null,
   "id": "45a28da1-d4b0-4db3-a67a-2471261446fe",
   "metadata": {},
   "outputs": [],
   "source": []
  },
  {
   "cell_type": "code",
   "execution_count": null,
   "id": "36f107de-8d5c-4a92-948e-d0080429f443",
   "metadata": {},
   "outputs": [],
   "source": []
  },
  {
   "cell_type": "code",
   "execution_count": 65,
   "id": "4f300fce-8fc6-4afd-a9fc-f7c40508e1d8",
   "metadata": {
    "tags": []
   },
   "outputs": [],
   "source": [
    "#RECURSION:-"
   ]
  },
  {
   "cell_type": "code",
   "execution_count": 66,
   "id": "02d9334b-1ebd-46c4-a826-2b7c50f087e1",
   "metadata": {
    "tags": []
   },
   "outputs": [],
   "source": [
    "#QUESTION 1 "
   ]
  },
  {
   "cell_type": "code",
   "execution_count": 67,
   "id": "167d121a-5ecf-49fc-92a0-790bf144e82b",
   "metadata": {
    "tags": []
   },
   "outputs": [],
   "source": [
    "# EXPLAIN THE CONCEPT OF RECURSION IN PYTHON. HOW DOES IT DIFFER FROM ITERATION"
   ]
  },
  {
   "cell_type": "code",
   "execution_count": 8,
   "id": "16206cfa-4da5-4f1d-b8e5-5b0e842efa88",
   "metadata": {},
   "outputs": [
    {
     "data": {
      "text/plain": [
       "\"recursion is a technique in python where a function calls itself in its definition. it's like a loop, but \\ninstead of repeating a block of coode,it repeats the function itself. The problem gets simplified each time the \\nfunction is called, until it's simple enough to solve directly.\\nfor instance,if you want to calculate the factorial of a number, you could use a recursive function that calls \\nitself with the number minus one until it reaches one.\\n\\ndef factorial(n):\\n    if n==1:\\n        return 1\\n    else:\\n        return n*factorial(n-1)\\n    \\niteration is when a block of code is repeated in a loop. in python, we might use a for or while loop for \\niteration\\n\\ndef factorial(n):\\n    result+1\\n    for i in range(1,n+1):\\n        result*=i\\n    return result \\n\\nThe key difference between recursion and iteration is how thy repeat their tasks recursion uses repeated \\nfunction calls, while iteration uses loops. Recursion can be more elegant and intuitive for complex problems\\niteration ,on the other hand, is generally more efficient and less likely to cause stack overflow ,but it can \\nbe harder to grasp for complicated tasks.\""
      ]
     },
     "execution_count": 8,
     "metadata": {},
     "output_type": "execute_result"
    }
   ],
   "source": [
    "\"\"\"recursion is a technique in python where a function calls itself in its definition. it's like a loop, but \n",
    "instead of repeating a block of coode,it repeats the function itself. The problem gets simplified each time the \n",
    "function is called, until it's simple enough to solve directly.\n",
    "for instance,if you want to calculate the factorial of a number, you could use a recursive function that calls \n",
    "itself with the number minus one until it reaches one.\n",
    "\n",
    "def factorial(n):\n",
    "    if n==1:\n",
    "        return 1\n",
    "    else:\n",
    "        return n*factorial(n-1)\n",
    "    \n",
    "iteration is when a block of code is repeated in a loop. in python, we might use a for or while loop for \n",
    "iteration\n",
    "\n",
    "def factorial(n):\n",
    "    result+1\n",
    "    for i in range(1,n+1):\n",
    "        result*=i\n",
    "    return result \n",
    "\n",
    "The key difference between recursion and iteration is how thy repeat their tasks recursion uses repeated \n",
    "function calls, while iteration uses loops. Recursion can be more elegant and intuitive for complex problems\n",
    "iteration ,on the other hand, is generally more efficient and less likely to cause stack overflow ,but it can \n",
    "be harder to grasp for complicated tasks.\"\"\""
   ]
  },
  {
   "cell_type": "code",
   "execution_count": null,
   "id": "e302388e-ddb7-40f6-b12b-eeed67854646",
   "metadata": {},
   "outputs": [],
   "source": []
  },
  {
   "cell_type": "code",
   "execution_count": null,
   "id": "450eaa51-b1fd-4ea4-b2b4-d6864b08520b",
   "metadata": {},
   "outputs": [],
   "source": []
  },
  {
   "cell_type": "code",
   "execution_count": 68,
   "id": "c7598da9-d331-429d-8837-604134a18c40",
   "metadata": {
    "tags": []
   },
   "outputs": [],
   "source": [
    "#QUESTION 2"
   ]
  },
  {
   "cell_type": "code",
   "execution_count": 69,
   "id": "f83cd7a8-ef4c-4258-bad0-65c28723147b",
   "metadata": {
    "tags": []
   },
   "outputs": [],
   "source": [
    "#WRITE A PYTHON PROGRAM TO CALCULATE THE FACTORIAL OF A NUMBER USING RECURSION."
   ]
  },
  {
   "cell_type": "code",
   "execution_count": 5,
   "id": "c8181d24-ee06-4465-9179-4b953ff8532a",
   "metadata": {},
   "outputs": [
    {
     "name": "stdin",
     "output_type": "stream",
     "text": [
      "Enter a number: 5\n"
     ]
    },
    {
     "name": "stdout",
     "output_type": "stream",
     "text": [
      "The factorial of 5 is 120\n"
     ]
    }
   ],
   "source": [
    "def factorial(n):\n",
    "    if n==0 or n==1:\n",
    "        return 1\n",
    "    else:\n",
    "        return n*factorial(n-1)\n",
    "number = int(input(\"Enter a number:\"))\n",
    "result = factorial(number)\n",
    "print(\"The factorial of\", number, \"is\",result)"
   ]
  },
  {
   "cell_type": "code",
   "execution_count": null,
   "id": "f72694d4-1416-42e7-a265-a954fc7a4623",
   "metadata": {},
   "outputs": [],
   "source": []
  },
  {
   "cell_type": "code",
   "execution_count": null,
   "id": "293e61c9-a1f9-4f45-ba1b-ba3ddbe117a2",
   "metadata": {},
   "outputs": [],
   "source": []
  },
  {
   "cell_type": "code",
   "execution_count": 70,
   "id": "cdd957f9-ba95-4ebe-9a4b-97beadad169b",
   "metadata": {
    "tags": []
   },
   "outputs": [],
   "source": [
    "# QUESTION 3"
   ]
  },
  {
   "cell_type": "code",
   "execution_count": 71,
   "id": "076e95d4-671d-4034-9591-1de7d43e36a6",
   "metadata": {
    "tags": []
   },
   "outputs": [],
   "source": [
    "# CREATE A RECURSIVE PYTHON FUNCTION TO FIND THE NTH FIBONACCI NUMBER."
   ]
  },
  {
   "cell_type": "code",
   "execution_count": 11,
   "id": "c104bd6b-c19e-4f70-aeb0-0481db675fc4",
   "metadata": {},
   "outputs": [
    {
     "name": "stdin",
     "output_type": "stream",
     "text": [
      "enter a positive integer: 5\n"
     ]
    },
    {
     "name": "stdout",
     "output_type": "stream",
     "text": [
      "The 5 th fibonacci number is 3\n"
     ]
    }
   ],
   "source": [
    "def fibonacci(n):\n",
    "    if n<=0:\n",
    "        return \"Invalid input. Please enter a positive integer.\"\n",
    "    elif n==1:\n",
    "        return 0\n",
    "    elif n==2:\n",
    "        return 1\n",
    "    else:\n",
    "        return fibonacci(n-1)+fibonacci(n-2)\n",
    "n = int(input(\"enter a positive integer:\"))\n",
    "result=fibonacci(n)\n",
    "print(\"The\",n,\"th fibonacci number is\",result)"
   ]
  },
  {
   "cell_type": "code",
   "execution_count": null,
   "id": "47f1d217-4935-4b6a-8f29-4567b858ecb9",
   "metadata": {},
   "outputs": [],
   "source": []
  },
  {
   "cell_type": "code",
   "execution_count": null,
   "id": "d728ccaf-3943-4585-9110-5a5e35979c8e",
   "metadata": {},
   "outputs": [],
   "source": []
  },
  {
   "cell_type": "code",
   "execution_count": 72,
   "id": "357cedca-1038-46ca-8cec-33ee888170fe",
   "metadata": {
    "tags": []
   },
   "outputs": [],
   "source": [
    "#QUESTION 4"
   ]
  },
  {
   "cell_type": "code",
   "execution_count": 73,
   "id": "9d95b9d6-c7af-4778-b49c-7d4d7ec50699",
   "metadata": {
    "tags": []
   },
   "outputs": [],
   "source": [
    "# WRITE A RECURSIVE PYTHON FUNCTION TO CALCULATE THE SUM OF ALL ELEMENTS IN ALIST."
   ]
  },
  {
   "cell_type": "code",
   "execution_count": 12,
   "id": "820f1b07-4651-4143-b2a9-fdaddd993adf",
   "metadata": {},
   "outputs": [
    {
     "name": "stdout",
     "output_type": "stream",
     "text": [
      "The sum of all elements in the list is 15\n"
     ]
    }
   ],
   "source": [
    "def sum_list(lst):\n",
    "    if len(lst)==0:\n",
    "        return 0 \n",
    "    else:\n",
    "        return lst[0]+sum_list(lst[1:])\n",
    "numbers=[1,2,3,4,5]\n",
    "result = sum_list(numbers)\n",
    "print(\"The sum of all elements in the list is\",result)"
   ]
  },
  {
   "cell_type": "code",
   "execution_count": null,
   "id": "fe25ecb3-9dcd-41a4-b4d9-8d0b98cb6024",
   "metadata": {},
   "outputs": [],
   "source": []
  },
  {
   "cell_type": "code",
   "execution_count": null,
   "id": "90018704-c17f-4280-a75a-02b5a4619925",
   "metadata": {},
   "outputs": [],
   "source": []
  },
  {
   "cell_type": "code",
   "execution_count": 74,
   "id": "769cadb3-2a92-4560-8382-d5bcc44d79a5",
   "metadata": {
    "tags": []
   },
   "outputs": [],
   "source": [
    "#QUESTION 5"
   ]
  },
  {
   "cell_type": "code",
   "execution_count": 75,
   "id": "e0e189aa-64fb-4ad5-9cc5-2bd6e2e1e9a2",
   "metadata": {
    "tags": []
   },
   "outputs": [],
   "source": [
    "# HOW CAN YOU PREVENT A RECURSIVE FUNCTION FROM RUNNING INDEFINITELY, CAUSING A STACK OVERFLOW ERROR"
   ]
  },
  {
   "cell_type": "code",
   "execution_count": 13,
   "id": "374ee5ab-f87b-42dd-b048-9cc36e540672",
   "metadata": {},
   "outputs": [
    {
     "name": "stdout",
     "output_type": "stream",
     "text": [
      "The result is 15\n"
     ]
    }
   ],
   "source": [
    "def countdown(n):\n",
    "    if n==1:\n",
    "        return 1\n",
    "    else:\n",
    "        return n+countdown(n-1)\n",
    "result=countdown(5)\n",
    "print(\"The result is\",result)"
   ]
  },
  {
   "cell_type": "code",
   "execution_count": null,
   "id": "8274e81a-d362-468f-9083-23bbc4b8377e",
   "metadata": {},
   "outputs": [],
   "source": []
  },
  {
   "cell_type": "code",
   "execution_count": null,
   "id": "1e00efd8-6817-4dcb-bdeb-26a48edbabc7",
   "metadata": {},
   "outputs": [],
   "source": []
  },
  {
   "cell_type": "code",
   "execution_count": 76,
   "id": "52cdf2e6-c2a8-44cf-9f14-28a7c32a8275",
   "metadata": {
    "tags": []
   },
   "outputs": [],
   "source": [
    "#QUESTION 6"
   ]
  },
  {
   "cell_type": "code",
   "execution_count": 14,
   "id": "fdb925d4-11a5-4598-a2af-7668c7a21976",
   "metadata": {},
   "outputs": [],
   "source": [
    "#CREATE A RECURSIVE PYTHON FUNCTION TO FIND THE GREATEST COMMON DIVISOR OF TWO NUMBERS USING THE EUCLIDEAN ALGORITHM"
   ]
  },
  {
   "cell_type": "code",
   "execution_count": 15,
   "id": "4a9d575a-a91e-4ccb-990e-ed3d65643035",
   "metadata": {
    "tags": []
   },
   "outputs": [
    {
     "name": "stdout",
     "output_type": "stream",
     "text": [
      "The greatest common divisor of 24 and 36 is 12\n"
     ]
    }
   ],
   "source": [
    "def gcd(a,b):\n",
    "    if b == 0:\n",
    "        return a\n",
    "    else:\n",
    "        return gcd(b,a%b)\n",
    "num1=24\n",
    "num2=36\n",
    "result = gcd(num1,num2)\n",
    "print(\"The greatest common divisor of\",num1, \"and\", num2, \"is\",result)"
   ]
  },
  {
   "cell_type": "code",
   "execution_count": null,
   "id": "8015e873-a3b1-43c4-8250-9f495a4ab1b7",
   "metadata": {},
   "outputs": [],
   "source": []
  },
  {
   "cell_type": "code",
   "execution_count": null,
   "id": "90e6255b-378a-4a27-8000-86257c71394e",
   "metadata": {},
   "outputs": [],
   "source": []
  },
  {
   "cell_type": "code",
   "execution_count": 16,
   "id": "512930ea-c0d6-489c-aaf4-7e9af6ff0472",
   "metadata": {
    "tags": []
   },
   "outputs": [],
   "source": [
    "#QUESTION 7"
   ]
  },
  {
   "cell_type": "code",
   "execution_count": 17,
   "id": "fddeac08-efd7-4561-aba3-5a86e4d18743",
   "metadata": {
    "tags": []
   },
   "outputs": [],
   "source": [
    "# WRITE A RECURSIVE PYTHON FUNCTION TO REVERSE A STRING."
   ]
  },
  {
   "cell_type": "code",
   "execution_count": 26,
   "id": "c73bffc0-bcb7-4a59-a38b-674fa0bef1bb",
   "metadata": {
    "tags": []
   },
   "outputs": [
    {
     "name": "stdout",
     "output_type": "stream",
     "text": [
      "The reversed string is !dlrow ,olleH\n"
     ]
    }
   ],
   "source": [
    "def reverse_string(s):\n",
    "    if len(s)==0:\n",
    "        return s\n",
    "    else:\n",
    "        return reverse_string(s[1:])+s[0]\n",
    "str = \"Hello, world!\"\n",
    "result = reverse_string(str)\n",
    "print(\"The reversed string is\",result)"
   ]
  },
  {
   "cell_type": "code",
   "execution_count": null,
   "id": "a4c50855-23a0-4ac4-8dd6-7bb3fbd840da",
   "metadata": {},
   "outputs": [],
   "source": []
  },
  {
   "cell_type": "code",
   "execution_count": null,
   "id": "1bc23394-de86-4a13-b440-4b6b60b07d5e",
   "metadata": {},
   "outputs": [],
   "source": []
  },
  {
   "cell_type": "code",
   "execution_count": 18,
   "id": "cefb8f4d-ff44-4ac5-aa9d-a415303b622c",
   "metadata": {
    "tags": []
   },
   "outputs": [],
   "source": [
    "#QUESTION 8"
   ]
  },
  {
   "cell_type": "code",
   "execution_count": 19,
   "id": "457d205c-9c97-4f85-a3e7-a674d75fa344",
   "metadata": {
    "tags": []
   },
   "outputs": [],
   "source": [
    "# CREATE A RECURSIVE PYTHON FUNCTION TO CALCULATE THE POWER OF A NUMBER(X^N)."
   ]
  },
  {
   "cell_type": "code",
   "execution_count": 28,
   "id": "178b202c-7151-4c7d-b5b4-244e3001dcc4",
   "metadata": {
    "tags": []
   },
   "outputs": [
    {
     "name": "stdout",
     "output_type": "stream",
     "text": [
      "2 raised to the power of 3 is 8\n"
     ]
    }
   ],
   "source": [
    "def power(base,exponent):\n",
    "    if exponent==0:\n",
    "        return 1\n",
    "    else:\n",
    "        return base*power(base,exponent-1)\n",
    "x=2\n",
    "n=3\n",
    "result=power(x,n)\n",
    "print(x,\"raised to the power of\",n,\"is\",result)"
   ]
  },
  {
   "cell_type": "code",
   "execution_count": null,
   "id": "f93b0985-e588-42ef-b084-fbd821558bed",
   "metadata": {},
   "outputs": [],
   "source": []
  },
  {
   "cell_type": "code",
   "execution_count": null,
   "id": "bf3bd6d4-a4a2-413b-8f0f-20b7199eae64",
   "metadata": {},
   "outputs": [],
   "source": []
  },
  {
   "cell_type": "code",
   "execution_count": 20,
   "id": "a3ecd7b8-489f-4d74-a634-2e4dcb1e850b",
   "metadata": {
    "tags": []
   },
   "outputs": [],
   "source": [
    "#QUESTION 9"
   ]
  },
  {
   "cell_type": "code",
   "execution_count": 21,
   "id": "73a57837-4dd2-4608-a435-385e5ea870c7",
   "metadata": {
    "tags": []
   },
   "outputs": [],
   "source": [
    "# WRITE A RECURSIVE PYTHON FUNCTION FUNCTION TO FIND ALL PERMUTATIONS OF A GIVEN STRING."
   ]
  },
  {
   "cell_type": "code",
   "execution_count": 29,
   "id": "13c00029-09d2-4699-9b38-72d123d721ce",
   "metadata": {
    "tags": []
   },
   "outputs": [
    {
     "name": "stdout",
     "output_type": "stream",
     "text": [
      "ALL permutations of the string ABC are:\n",
      "ABCACBBACBCACABCBA"
     ]
    }
   ],
   "source": [
    "def permute(s,answer=''):\n",
    "    if len(s)==0:\n",
    "        print(answer,end='')\n",
    "        return\n",
    "    for i in range(len(s)):\n",
    "        ch=s[i]\n",
    "        left_substr=s[0:i]\n",
    "        right_substr=s[i+1:]\n",
    "        rest=left_substr+right_substr\n",
    "        permute(rest,answer+ch)\n",
    "input_string=\"ABC\"\n",
    "print(\"ALL permutations of the string\",input_string,\"are:\")\n",
    "permute(input_string)"
   ]
  },
  {
   "cell_type": "code",
   "execution_count": null,
   "id": "29d2d53b-e92f-41b3-a6f6-942b358340e3",
   "metadata": {},
   "outputs": [],
   "source": []
  },
  {
   "cell_type": "code",
   "execution_count": null,
   "id": "0197514a-6f57-4fe6-ade2-981c36faeab0",
   "metadata": {},
   "outputs": [],
   "source": []
  },
  {
   "cell_type": "code",
   "execution_count": 22,
   "id": "136d1277-1fd2-472a-9ed5-4fbe61a3b9c2",
   "metadata": {
    "tags": []
   },
   "outputs": [],
   "source": [
    "#QUESTION 10"
   ]
  },
  {
   "cell_type": "code",
   "execution_count": 23,
   "id": "e2b5d744-dd4f-44d9-b3d6-208b1ad38b76",
   "metadata": {
    "tags": []
   },
   "outputs": [],
   "source": [
    "#WRITE A RECURSIVE PYTHON FUNCTION TO CHECK IF A STRING IS A PALINDROME."
   ]
  },
  {
   "cell_type": "code",
   "execution_count": 34,
   "id": "203d841d-feba-4478-aef0-d9e370219bba",
   "metadata": {
    "tags": []
   },
   "outputs": [
    {
     "name": "stdout",
     "output_type": "stream",
     "text": [
      "racecar is a palindrome.\n"
     ]
    }
   ],
   "source": [
    "def is_palindrome(s,start,end):\n",
    "    if start>=end:\n",
    "        return True\n",
    "    elif s[start]!=s[end]:\n",
    "        return False\n",
    "    else:\n",
    "        return is_palindrome(s,start+1,end-1)\n",
    "string=\"racecar\"\n",
    "result=is_palindrome(string,0,len(string)-1)\n",
    "if result:\n",
    "    print(string,\"is a palindrome.\")\n",
    "else:\n",
    "    print(string,\"is not a palindrome.\")\n",
    "                     "
   ]
  },
  {
   "cell_type": "code",
   "execution_count": null,
   "id": "7b0221ed-1dca-4535-a604-ac7415a96632",
   "metadata": {},
   "outputs": [],
   "source": []
  },
  {
   "cell_type": "code",
   "execution_count": null,
   "id": "e359f5ba-df7a-47b3-87c7-151d49e78317",
   "metadata": {},
   "outputs": [],
   "source": []
  },
  {
   "cell_type": "code",
   "execution_count": 24,
   "id": "c012f4d7-4a3d-41f3-b7e4-716bdda42162",
   "metadata": {
    "tags": []
   },
   "outputs": [],
   "source": [
    "#QUESTION 11"
   ]
  },
  {
   "cell_type": "code",
   "execution_count": 25,
   "id": "db62cbec-8276-4bae-9d7e-5fb3501fe409",
   "metadata": {
    "tags": []
   },
   "outputs": [],
   "source": [
    "# CREATE A RECURSIVE PYTHON FUNCTION TO GENERATE ALL POSSIBLE COMBINATIONS OF A LIST OF ELEMENTS"
   ]
  },
  {
   "cell_type": "code",
   "execution_count": 36,
   "id": "086167d5-c1e0-4bd3-b8eb-fa4fa1375a53",
   "metadata": {
    "tags": []
   },
   "outputs": [
    {
     "name": "stdout",
     "output_type": "stream",
     "text": [
      "All combinations of the list [1, 2, 3] are:\n",
      "[1]\n",
      "[1, 2]\n",
      "[1, 2, 3]\n",
      "[1, 3]\n",
      "[2]\n",
      "[2, 3]\n",
      "[3]\n"
     ]
    }
   ],
   "source": [
    "def combinations(lst,combo=[]):\n",
    "    if lst:\n",
    "        for i in range(len(lst)):\n",
    "            new_combo=combo+[lst[i]]\n",
    "            print(new_combo)\n",
    "            combinations(lst[i+1:],new_combo)\n",
    "    return\n",
    "elements=[1,2,3]\n",
    "print(\"All combinations of the list\", elements,\"are:\")\n",
    "combinations(elements)"
   ]
  },
  {
   "cell_type": "code",
   "execution_count": null,
   "id": "c100ec51-9e78-4b1f-b663-69fcaa2d6835",
   "metadata": {},
   "outputs": [],
   "source": []
  },
  {
   "cell_type": "code",
   "execution_count": null,
   "id": "6d03dad0-3e8b-4bf7-a7b3-bf483ce11893",
   "metadata": {},
   "outputs": [],
   "source": []
  },
  {
   "cell_type": "code",
   "execution_count": 37,
   "id": "46157828-398d-4367-9997-32c32a7b7255",
   "metadata": {
    "tags": []
   },
   "outputs": [],
   "source": [
    "#BASICS OF FUNCTIONS:"
   ]
  },
  {
   "cell_type": "code",
   "execution_count": 38,
   "id": "79e80207-30b6-48b4-b8b9-dfa91ae313ad",
   "metadata": {
    "tags": []
   },
   "outputs": [],
   "source": [
    "#QUESTION 1"
   ]
  },
  {
   "cell_type": "code",
   "execution_count": 39,
   "id": "98c71026-a702-44e2-bc15-2cddcfff2d95",
   "metadata": {
    "tags": []
   },
   "outputs": [],
   "source": [
    "#WHAT IS A FUNCTION IN PYTHON, AND WHY IS IT USED"
   ]
  },
  {
   "cell_type": "code",
   "execution_count": null,
   "id": "bde7d7e5-fac9-4999-a7c7-ca7193fdd657",
   "metadata": {},
   "outputs": [],
   "source": [
    "\"\"\"A function in python is a named block of reusable code that performs a specific task. it allows you to \n",
    "organize your code into logical units and makes it easier to understand, debug,and maintain.\n",
    "\n",
    "Functions are used to encapsulate a set of instructions that can be executed multiple times with different inputs. \n",
    "they help in modularizing code, promoting code reuse, and improving code readability.\n"
   ]
  },
  {
   "cell_type": "code",
   "execution_count": null,
   "id": "e148a631-1553-4a7c-a5ba-2c8dfa6325a7",
   "metadata": {},
   "outputs": [],
   "source": []
  },
  {
   "cell_type": "code",
   "execution_count": null,
   "id": "d5dc4906-0ea3-426b-a437-8524a1346b9d",
   "metadata": {},
   "outputs": [],
   "source": []
  },
  {
   "cell_type": "code",
   "execution_count": 1,
   "id": "45e05c99-22e7-4cfc-8325-94b2015c0142",
   "metadata": {
    "tags": []
   },
   "outputs": [],
   "source": [
    "#QUESTION 2"
   ]
  },
  {
   "cell_type": "code",
   "execution_count": 2,
   "id": "cb43e788-a56a-4bc6-b0d9-be455d3f883b",
   "metadata": {
    "tags": []
   },
   "outputs": [],
   "source": [
    "#HOW DO YOU DEFINE A FUNCTION IN PYTHON PROVIDE AN EXAMPLE"
   ]
  },
  {
   "cell_type": "code",
   "execution_count": null,
   "id": "af3f92c4-4382-4314-a2b6-e66374260a1d",
   "metadata": {},
   "outputs": [],
   "source": [
    "\"\"\"we use the 'def' keyword followed by the function name and parentheses`()`. inside the parentheses, you put any\n",
    "parameters that your function needs. Then, you include a colon`:` to start the function's body.\n",
    "\n",
    "example:\n",
    "def add_numbers(a,b):\n",
    "    return a+b\n",
    "result=add_numbers(5,3)\n",
    "\n",
    "The names and number of parameters can change depending on what you need for your function!\n"
   ]
  },
  {
   "cell_type": "code",
   "execution_count": null,
   "id": "b08e729a-8bdb-4cb3-a6c8-585c16972459",
   "metadata": {},
   "outputs": [],
   "source": []
  },
  {
   "cell_type": "code",
   "execution_count": null,
   "id": "c2896bfa-2c74-4c2f-8019-6db02d544949",
   "metadata": {},
   "outputs": [],
   "source": []
  },
  {
   "cell_type": "code",
   "execution_count": 3,
   "id": "cd4b7f66-3360-43d8-a140-18faa8ef74c4",
   "metadata": {
    "tags": []
   },
   "outputs": [],
   "source": [
    "#QUESTION 3"
   ]
  },
  {
   "cell_type": "code",
   "execution_count": 4,
   "id": "b26aaa69-4afd-4767-8b8a-701145d4b0c4",
   "metadata": {
    "tags": []
   },
   "outputs": [],
   "source": [
    "# EXPLAIN THE DIFFERENCE BETWEEN A FUNCTION DEFINITION AND A FUNCTION CALL."
   ]
  },
  {
   "cell_type": "code",
   "execution_count": null,
   "id": "6ef849ad-3dcc-4f3d-9bc2-7bd316b6d41f",
   "metadata": {},
   "outputs": [],
   "source": [
    "\"\"\"A FUNCTION DEFINITION is like a recipe. it lays out the steps that need to be taken but doesn't actually do \n",
    "anything until it's used. It's defined with the `def` keyword in python\n",
    "\n",
    "def say_hello(name):\n",
    "    print(f\"Hello,{name}!\")\n",
    "    \n",
    "A FUNCTION CALL is like actually following the recipe. it executes the code within the function using the given \n",
    "arguments.\n",
    "say_hello(\"Nikita\")\n"
   ]
  },
  {
   "cell_type": "code",
   "execution_count": null,
   "id": "4d9fda25-c3f3-47b4-83d3-977ef0924e11",
   "metadata": {},
   "outputs": [],
   "source": []
  },
  {
   "cell_type": "code",
   "execution_count": null,
   "id": "65acff3b-1e4f-4ea5-bb84-ecec09144707",
   "metadata": {},
   "outputs": [],
   "source": []
  },
  {
   "cell_type": "code",
   "execution_count": 5,
   "id": "f17d7c1f-9b6a-42f1-8e42-5d518810de7c",
   "metadata": {
    "tags": []
   },
   "outputs": [],
   "source": [
    "#QUESTION 4"
   ]
  },
  {
   "cell_type": "code",
   "execution_count": 6,
   "id": "bb12924c-d213-49b3-ad88-954b48dd4c64",
   "metadata": {
    "tags": []
   },
   "outputs": [],
   "source": [
    "#WRITE A PYTHON PROGRAM THAT DEFINES A FUNCTION TO CALCULATE THE SUM OF TWO NUMBERS AND THEN CALLS THE FUNCTION"
   ]
  },
  {
   "cell_type": "code",
   "execution_count": 1,
   "id": "9ebbf562-287e-4c1a-905e-e946ad42510c",
   "metadata": {},
   "outputs": [
    {
     "name": "stdout",
     "output_type": "stream",
     "text": [
      "8\n"
     ]
    }
   ],
   "source": [
    "def calculate_sum(a,b):\n",
    "    return a+b\n",
    "result=calculate_sum(5,3)\n",
    "print(result)"
   ]
  },
  {
   "cell_type": "code",
   "execution_count": null,
   "id": "cd229c7e-ddf4-41cd-a287-dff2dab350ce",
   "metadata": {},
   "outputs": [],
   "source": []
  },
  {
   "cell_type": "code",
   "execution_count": null,
   "id": "e3af3a7e-28da-4252-bba4-246031b6c9a5",
   "metadata": {},
   "outputs": [],
   "source": []
  },
  {
   "cell_type": "code",
   "execution_count": 7,
   "id": "4039084c-9647-42e1-8faf-5afaf96f2ef6",
   "metadata": {
    "tags": []
   },
   "outputs": [],
   "source": [
    "#QUESTION 5"
   ]
  },
  {
   "cell_type": "code",
   "execution_count": 8,
   "id": "4e745ef9-3885-4abb-bd0d-2d1d6d8a7fad",
   "metadata": {
    "tags": []
   },
   "outputs": [],
   "source": [
    "#WHAT IS A FUNCTION SIGNATURE, AND WHAT INFORMATION DOES IT TYPICALLY INCLUDE"
   ]
  },
  {
   "cell_type": "code",
   "execution_count": null,
   "id": "e69e5e0f-cc84-4c18-ad4d-21a92c08f297",
   "metadata": {},
   "outputs": [],
   "source": [
    "\"\"\"A function signature, is like introduction of a function. it includes the function's name, the number of \n",
    "parameters it takes, and their types. It doesn't include the function's body \n",
    "For example , in the function `def add_numbers(a,b):, the function signature is `add_numbers(a,b)`. it tells us \n",
    "the function is named `add_numbers` and it takes two parameters `a` and `b`."
   ]
  },
  {
   "cell_type": "code",
   "execution_count": null,
   "id": "3d96b96b-933f-476c-8a2c-3e62ba0ce588",
   "metadata": {},
   "outputs": [],
   "source": []
  },
  {
   "cell_type": "code",
   "execution_count": null,
   "id": "43e7df87-954a-4b72-90b4-e8205e2a20ff",
   "metadata": {},
   "outputs": [],
   "source": []
  },
  {
   "cell_type": "code",
   "execution_count": 9,
   "id": "b600ca7d-72f2-4732-ac4a-866df366950d",
   "metadata": {
    "tags": []
   },
   "outputs": [],
   "source": [
    "#QUESTION 6"
   ]
  },
  {
   "cell_type": "code",
   "execution_count": 10,
   "id": "c964bf4d-5db2-4e16-b00f-287087d6d4a0",
   "metadata": {
    "tags": []
   },
   "outputs": [],
   "source": [
    "#CREATE A PYTHON FUNCTION THAT TAKES TWO ARGUMENTS AND RETURNS THEIR PRODUCT."
   ]
  },
  {
   "cell_type": "code",
   "execution_count": 2,
   "id": "3cd67a79-1265-4cf0-9492-e84868340d83",
   "metadata": {},
   "outputs": [
    {
     "name": "stdout",
     "output_type": "stream",
     "text": [
      "15\n"
     ]
    }
   ],
   "source": [
    "def calculate_product(a,b):\n",
    "    return a*b\n",
    "result = calculate_product(5,3)\n",
    "print(result)"
   ]
  },
  {
   "cell_type": "code",
   "execution_count": null,
   "id": "1b6f8968-3b99-4f2a-b164-7ba3064793cc",
   "metadata": {},
   "outputs": [],
   "source": []
  },
  {
   "cell_type": "code",
   "execution_count": null,
   "id": "2ef11518-138d-4bce-a5e6-1b240cc867aa",
   "metadata": {},
   "outputs": [],
   "source": []
  },
  {
   "cell_type": "code",
   "execution_count": 11,
   "id": "a1dd9baf-9a87-49c8-88ee-a701f4a41e47",
   "metadata": {
    "tags": []
   },
   "outputs": [],
   "source": [
    "#FUNCTION PARAMETERS AND ARGUMENTS:"
   ]
  },
  {
   "cell_type": "code",
   "execution_count": 12,
   "id": "9543209d-4f7f-47e5-8ae4-de949cfaf8aa",
   "metadata": {
    "tags": []
   },
   "outputs": [],
   "source": [
    "#QUESTION 1"
   ]
  },
  {
   "cell_type": "code",
   "execution_count": 13,
   "id": "1c9d8493-77c1-46b9-a6ec-53e1a2d774a9",
   "metadata": {
    "tags": []
   },
   "outputs": [],
   "source": [
    "# EXPLAIN THE CONCEPTS OF FORMAL PARAMETERS AND ACTUAL ARGUMENTS IN PYTHON FUNCTIONS."
   ]
  },
  {
   "cell_type": "code",
   "execution_count": null,
   "id": "1138a9c8-60bd-4d4f-b638-8b9c1e7374cd",
   "metadata": {},
   "outputs": [],
   "source": [
    "\"\"\" In python functions,formal parameters are the names we use when we define a function. They're like \n",
    "placeholders for the actual data we'll use later \n",
    "for example, in def say_hello(name):`,` `name` is a formal parameter.\n",
    "Actual arguments, on the other hand, are the values we pass into the function when we call it. so if we call our\n",
    "function like this:\n",
    "`say_hello(\"Nikita\")`, then \"Nikita\" is an actual argument.\n"
   ]
  },
  {
   "cell_type": "code",
   "execution_count": null,
   "id": "c304ab85-08e6-4463-afb2-81b59c115000",
   "metadata": {},
   "outputs": [],
   "source": []
  },
  {
   "cell_type": "code",
   "execution_count": null,
   "id": "4ddfb7c9-4c1f-4799-ac4e-b6c6ab3b0f73",
   "metadata": {},
   "outputs": [],
   "source": []
  },
  {
   "cell_type": "code",
   "execution_count": 14,
   "id": "1321017b-4397-451d-866c-51a441af3daf",
   "metadata": {
    "tags": []
   },
   "outputs": [],
   "source": [
    "#QUESTION 2"
   ]
  },
  {
   "cell_type": "code",
   "execution_count": 15,
   "id": "f40ae520-509f-447d-b42f-64ef17943aa9",
   "metadata": {
    "tags": []
   },
   "outputs": [],
   "source": [
    "#WRITE A PYTHON PROGRAM THAT DEFINES A FUNCTION WITH DEFAULT ARGUMENT VALUES."
   ]
  },
  {
   "cell_type": "code",
   "execution_count": 3,
   "id": "2a459233-990d-48eb-a760-b1057cd88dc1",
   "metadata": {},
   "outputs": [
    {
     "name": "stdout",
     "output_type": "stream",
     "text": [
      "Hello,Friend!\n",
      "Hello,Nikita!\n"
     ]
    }
   ],
   "source": [
    "def greet(name=\"Friend\"):\n",
    "    return\"Hello,\"+name+\"!\"\n",
    "print(greet())\n",
    "print(greet(\"Nikita\"))"
   ]
  },
  {
   "cell_type": "code",
   "execution_count": null,
   "id": "bd442eb5-02c6-48f6-8b9a-559c784a860d",
   "metadata": {},
   "outputs": [],
   "source": []
  },
  {
   "cell_type": "code",
   "execution_count": null,
   "id": "b2dff310-3df1-4964-9c14-0e00e76dae07",
   "metadata": {},
   "outputs": [],
   "source": []
  },
  {
   "cell_type": "code",
   "execution_count": 16,
   "id": "9ff777dd-798a-430d-9d62-806da461d378",
   "metadata": {
    "tags": []
   },
   "outputs": [],
   "source": [
    "#QUESTION 3"
   ]
  },
  {
   "cell_type": "code",
   "execution_count": 17,
   "id": "27338a50-42b7-4acc-a495-f3dde18bb82e",
   "metadata": {
    "tags": []
   },
   "outputs": [],
   "source": [
    "# HOW DO YOU USE KEYBOARD ARGUMENTS IN PYTHON FUNCTION CALLS PROVIDE AN EXAMPLE."
   ]
  },
  {
   "cell_type": "code",
   "execution_count": null,
   "id": "6e3dbdcc-b075-488e-8d3f-6759fabd46a9",
   "metadata": {},
   "outputs": [],
   "source": [
    "\"\"\"keysword arguments in python allow you to specify arguments by their names. it makes your code more readable \n",
    "and also allows you to skip arguments or place them out of order because python interpreter can use the provided \n",
    "keywords to match the values with parameters"
   ]
  },
  {
   "cell_type": "code",
   "execution_count": 4,
   "id": "fe226356-bfee-4911-8fe4-0a23e8814fcd",
   "metadata": {},
   "outputs": [
    {
     "name": "stdout",
     "output_type": "stream",
     "text": [
      "Hello,Nikita Nagar!\n"
     ]
    }
   ],
   "source": [
    "def greet(first_name,last_name):\n",
    "    return\"Hello,\"+first_name+\" \"+last_name+\"!\"\n",
    "print(greet(first_name=\"Nikita\",last_name=\"Nagar\"))"
   ]
  },
  {
   "cell_type": "code",
   "execution_count": null,
   "id": "d606018a-03ba-43c1-ba8b-7ef4b9c43238",
   "metadata": {},
   "outputs": [],
   "source": []
  },
  {
   "cell_type": "code",
   "execution_count": null,
   "id": "e5d9f4c1-9c01-4043-a2a8-b2c8b1f7f92a",
   "metadata": {},
   "outputs": [],
   "source": []
  },
  {
   "cell_type": "code",
   "execution_count": 18,
   "id": "aaa29834-eb78-4924-b06b-4afaf749bac1",
   "metadata": {
    "tags": []
   },
   "outputs": [],
   "source": [
    "#QUESTION 4"
   ]
  },
  {
   "cell_type": "code",
   "execution_count": 19,
   "id": "27135138-ca55-4908-bdf0-4c9dde3b0ea7",
   "metadata": {
    "tags": []
   },
   "outputs": [],
   "source": [
    "# CREATE A PYTHON FUNCTION THAT ACCEPTS A VARIABLE NUMBER OF ARGUMENTS AND CALCULATES THEIR SUM."
   ]
  },
  {
   "cell_type": "code",
   "execution_count": 6,
   "id": "ef622846-d9cd-4a9a-9679-88e2cb2007b0",
   "metadata": {},
   "outputs": [
    {
     "name": "stdout",
     "output_type": "stream",
     "text": [
      "15\n",
      "60\n",
      "42\n"
     ]
    }
   ],
   "source": [
    "def calculate_sum(*args):\n",
    "    return sum(args)\n",
    "print(calculate_sum(1,2,3,4,5))\n",
    "print(calculate_sum(10,20,30))\n",
    "print(calculate_sum(2,4,6,8,10,12))"
   ]
  },
  {
   "cell_type": "code",
   "execution_count": null,
   "id": "02d14b5a-0d47-487e-9896-08b1fe74502c",
   "metadata": {},
   "outputs": [],
   "source": []
  },
  {
   "cell_type": "code",
   "execution_count": null,
   "id": "c2bf6784-10ee-4e0e-b995-54d7b25c4dea",
   "metadata": {},
   "outputs": [],
   "source": []
  },
  {
   "cell_type": "code",
   "execution_count": 20,
   "id": "74561b64-a19e-4b05-b222-1a9534f28285",
   "metadata": {
    "tags": []
   },
   "outputs": [],
   "source": [
    "#QUESTION 5"
   ]
  },
  {
   "cell_type": "code",
   "execution_count": 21,
   "id": "60e9f27c-9f6c-42a8-bad1-bbfea8986c61",
   "metadata": {
    "tags": []
   },
   "outputs": [],
   "source": [
    "#WHAT IS THE PURPOSE OF THE `*ARGS` AND `**KWARGS` SYNTAX IN FUMCTION PARAMETER LISTS"
   ]
  },
  {
   "cell_type": "code",
   "execution_count": 7,
   "id": "93b4b5bf-ff01-4029-bb9d-c3d7d8239861",
   "metadata": {},
   "outputs": [
    {
     "name": "stdout",
     "output_type": "stream",
     "text": [
      "1\n",
      "2\n",
      "3\n",
      "4\n"
     ]
    }
   ],
   "source": [
    "def func(*args):\n",
    "    for arg in args:\n",
    "        print(arg)\n",
    "func(1,2,3,4)"
   ]
  },
  {
   "cell_type": "code",
   "execution_count": 8,
   "id": "7a82d27d-7de9-4847-bec8-f5a629e14b76",
   "metadata": {},
   "outputs": [
    {
     "name": "stdout",
     "output_type": "stream",
     "text": [
      "name:Nikita\n",
      "age:25\n"
     ]
    }
   ],
   "source": [
    "def func(**kwargs):\n",
    "    for key, value in kwargs.items():\n",
    "        print(f\"{key}:{value}\")\n",
    "func(name=\"Nikita\",age=25)\n"
   ]
  },
  {
   "cell_type": "code",
   "execution_count": null,
   "id": "9efb8e3d-b0eb-4779-91d4-0769983fabf8",
   "metadata": {},
   "outputs": [],
   "source": []
  },
  {
   "cell_type": "code",
   "execution_count": null,
   "id": "a0daf4cc-ca76-4c92-b9e5-35da1b4e35d6",
   "metadata": {},
   "outputs": [],
   "source": []
  },
  {
   "cell_type": "code",
   "execution_count": 22,
   "id": "22a3e791-2daf-4505-8adb-8bd505462bb4",
   "metadata": {
    "tags": []
   },
   "outputs": [],
   "source": [
    "#RETURN VALUES AND SCOPING:"
   ]
  },
  {
   "cell_type": "code",
   "execution_count": 23,
   "id": "8e783abc-38b7-4c2b-bc09-458d3a84e15b",
   "metadata": {
    "tags": []
   },
   "outputs": [],
   "source": [
    "#QUESTION 1"
   ]
  },
  {
   "cell_type": "code",
   "execution_count": 24,
   "id": "acd35787-4ebd-4b51-bb6e-c7777fc5446a",
   "metadata": {
    "tags": []
   },
   "outputs": [],
   "source": [
    "#DESCRIBE THE ROLE OF THE `RETURN` STATEMENT IN PYTHON FUNCTIONS AND PROVIDE EXAMPLES."
   ]
  },
  {
   "cell_type": "code",
   "execution_count": null,
   "id": "2363c933-8ebb-4ed1-8a2c-4bb821782533",
   "metadata": {},
   "outputs": [],
   "source": [
    "return statement is used to end the executive of a function and send a result back to the caller. if a function \n",
    "doesn't have a `retuen` statement,it returns `None`."
   ]
  },
  {
   "cell_type": "code",
   "execution_count": 10,
   "id": "6430e755-52c8-437a-ab0c-29ae756bd426",
   "metadata": {},
   "outputs": [
    {
     "name": "stdout",
     "output_type": "stream",
     "text": [
      "12\n"
     ]
    }
   ],
   "source": [
    "def add_numbers(num1,num2):\n",
    "    return num1+num2\n",
    "result= add_numbers(5,7)\n",
    "print(result)"
   ]
  },
  {
   "cell_type": "code",
   "execution_count": null,
   "id": "4bf7aeaf-80e3-4a50-adae-d25f29d60d11",
   "metadata": {},
   "outputs": [],
   "source": []
  },
  {
   "cell_type": "code",
   "execution_count": null,
   "id": "3ed15ed1-0b1f-4258-9353-e8afe61739d6",
   "metadata": {},
   "outputs": [],
   "source": []
  },
  {
   "cell_type": "code",
   "execution_count": 25,
   "id": "50e2dda0-d2f4-4390-9e83-319fed1dbd66",
   "metadata": {
    "tags": []
   },
   "outputs": [],
   "source": [
    "#QUESTION 2"
   ]
  },
  {
   "cell_type": "code",
   "execution_count": 26,
   "id": "5164e319-b0ef-4a83-b691-8b516421dc8a",
   "metadata": {
    "tags": []
   },
   "outputs": [],
   "source": [
    "# EXPLAIN THE CONCEPT OF VARIABLE SCOPE IN PYTHON, INCLUDING LOCAL AND GLOBAL VARIABLES."
   ]
  },
  {
   "cell_type": "code",
   "execution_count": 13,
   "id": "ec6ee577-bd22-402d-a3e3-8b7bfb81a59d",
   "metadata": {},
   "outputs": [
    {
     "name": "stdout",
     "output_type": "stream",
     "text": [
      "I'm global!\n",
      "I'm global!\n"
     ]
    }
   ],
   "source": [
    "global_variable=\"I'm global!\"\n",
    "def my_function():\n",
    "    print(global_variable)\n",
    "my_function()\n",
    "print(global_variable)"
   ]
  },
  {
   "cell_type": "code",
   "execution_count": null,
   "id": "cae6e73f-4257-439c-9d2c-584f69d78d24",
   "metadata": {},
   "outputs": [],
   "source": []
  },
  {
   "cell_type": "code",
   "execution_count": 27,
   "id": "b00b39f8-61b8-487d-b514-c8cd61557310",
   "metadata": {
    "tags": []
   },
   "outputs": [],
   "source": [
    "#QUESTION 3 "
   ]
  },
  {
   "cell_type": "code",
   "execution_count": 28,
   "id": "2826242d-dd5d-453b-a97f-c1dc0351e219",
   "metadata": {
    "tags": []
   },
   "outputs": [],
   "source": [
    "# WRITE A PYTHON PROGRAM THAT DEMONSTRATES THE USE OF GLOBAL VARIABLES WITHIN FUNCTIONS."
   ]
  },
  {
   "cell_type": "code",
   "execution_count": 16,
   "id": "240509da-ffb8-4168-872f-22a569b94e0c",
   "metadata": {},
   "outputs": [
    {
     "name": "stdout",
     "output_type": "stream",
     "text": [
      "I'm a global variable!\n",
      "I'm a global variable!\n"
     ]
    }
   ],
   "source": [
    "global_var=\"I'm a global variable!\"\n",
    "def my_func():\n",
    "    print(global_var)\n",
    "my_func()\n",
    "print(global_var)"
   ]
  },
  {
   "cell_type": "code",
   "execution_count": null,
   "id": "3d54c959-e23e-4ca5-9e9d-ef5686a33818",
   "metadata": {},
   "outputs": [],
   "source": []
  },
  {
   "cell_type": "code",
   "execution_count": null,
   "id": "7f15e867-0f13-4b09-b49a-c8604db7189f",
   "metadata": {},
   "outputs": [],
   "source": []
  },
  {
   "cell_type": "code",
   "execution_count": 29,
   "id": "92712eff-444f-4631-8d5f-f9daa9688795",
   "metadata": {
    "tags": []
   },
   "outputs": [],
   "source": [
    "#QUESTION 4"
   ]
  },
  {
   "cell_type": "code",
   "execution_count": 30,
   "id": "a9f049aa-d961-4eb6-81ab-fc9efbbbebb8",
   "metadata": {
    "tags": []
   },
   "outputs": [],
   "source": [
    "# CREATE A PYTHON FUNCTION THAT CALCULATES THE FACTORIAL OF A NUMBER AND RETURNS IT."
   ]
  },
  {
   "cell_type": "code",
   "execution_count": 18,
   "id": "3c7d0209-cad8-4dbb-a1eb-767240967fed",
   "metadata": {},
   "outputs": [
    {
     "name": "stdout",
     "output_type": "stream",
     "text": [
      "The factorial of5 is: 120\n"
     ]
    }
   ],
   "source": [
    "def factorial(n):\n",
    "    if n==0:\n",
    "        return 1 \n",
    "    else:\n",
    "        return n*factorial(n-1)\n",
    "number =5\n",
    "result=factorial(number)\n",
    "print(f\"The factorial of{number} is: {result}\")"
   ]
  },
  {
   "cell_type": "code",
   "execution_count": null,
   "id": "b29c662c-2437-434c-bcb8-3f0293664495",
   "metadata": {},
   "outputs": [],
   "source": []
  },
  {
   "cell_type": "code",
   "execution_count": null,
   "id": "b41deeb2-a743-45ce-af66-3cb5e17aa83a",
   "metadata": {},
   "outputs": [],
   "source": []
  },
  {
   "cell_type": "code",
   "execution_count": 31,
   "id": "46035d55-30b9-4ddf-bd57-78a981965a00",
   "metadata": {
    "tags": []
   },
   "outputs": [],
   "source": [
    "#QUESTION 5"
   ]
  },
  {
   "cell_type": "code",
   "execution_count": 32,
   "id": "bcb9c3c7-76c9-4d21-b6ef-67d357ab562f",
   "metadata": {
    "tags": []
   },
   "outputs": [],
   "source": [
    "# HOW CAN YOU ACCESS VARIABLES DEFINED OUTSIDE A FUNCTION FROM WITHIN THE FUNCTION"
   ]
  },
  {
   "cell_type": "code",
   "execution_count": 19,
   "id": "a89f7d8e-5b42-4b52-b2e6-bae8427e2ea2",
   "metadata": {},
   "outputs": [
    {
     "name": "stdout",
     "output_type": "stream",
     "text": [
      "I'm local!\n"
     ]
    }
   ],
   "source": [
    "my_var=\"Hello,world!\"\n",
    "def my_func():\n",
    "    print(my_var)\n",
    "my_fun()"
   ]
  },
  {
   "cell_type": "code",
   "execution_count": null,
   "id": "c68bf686-d620-4fc6-ae7f-2e1d351b5819",
   "metadata": {},
   "outputs": [],
   "source": []
  },
  {
   "cell_type": "code",
   "execution_count": null,
   "id": "31ec528d-c7ee-49e9-a255-b2ba46af2bd1",
   "metadata": {},
   "outputs": [],
   "source": []
  },
  {
   "cell_type": "code",
   "execution_count": 33,
   "id": "5e22d7fe-0afb-4605-95f2-e584606b3972",
   "metadata": {
    "tags": []
   },
   "outputs": [],
   "source": [
    "# LAMBDA FUNCTIONS AND HIGHER-ORDER FUNCTIONS:"
   ]
  },
  {
   "cell_type": "code",
   "execution_count": 34,
   "id": "ff5b2ec6-65e2-4d05-8274-3ebf8211dbe4",
   "metadata": {
    "tags": []
   },
   "outputs": [],
   "source": [
    "#QUESTION 1"
   ]
  },
  {
   "cell_type": "code",
   "execution_count": 35,
   "id": "d89f420e-139b-4fa0-b49c-fed377ad7930",
   "metadata": {
    "tags": []
   },
   "outputs": [],
   "source": [
    "#WHAT ARE LAMBDA FUNCTIONS IN PYTHON, AND WHEN ARE THEY TYPICALLY USED"
   ]
  },
  {
   "cell_type": "code",
   "execution_count": 20,
   "id": "0a70bf60-3d67-4789-8a96-584bb97e5a3e",
   "metadata": {},
   "outputs": [
    {
     "name": "stdout",
     "output_type": "stream",
     "text": [
      "8\n"
     ]
    }
   ],
   "source": [
    "add = lambda x,y:x+y\n",
    "result = add(3,5)\n",
    "print(result)"
   ]
  },
  {
   "cell_type": "code",
   "execution_count": null,
   "id": "ba65ecb9-fc98-4d3d-8d84-d20c1d967e4e",
   "metadata": {},
   "outputs": [],
   "source": []
  },
  {
   "cell_type": "code",
   "execution_count": null,
   "id": "af57354c-7a4e-41d2-a832-7fab0ba04d4c",
   "metadata": {},
   "outputs": [],
   "source": []
  },
  {
   "cell_type": "code",
   "execution_count": 36,
   "id": "23986e44-37a3-4cdf-b681-0eb99db63a1f",
   "metadata": {
    "tags": []
   },
   "outputs": [],
   "source": [
    "#QUESTION 2"
   ]
  },
  {
   "cell_type": "code",
   "execution_count": 37,
   "id": "2a2bed7f-29b1-4f42-a02b-2fcc302ac29b",
   "metadata": {
    "tags": []
   },
   "outputs": [],
   "source": [
    "#WRITE A PYTHON PROGRAM THAT USES LAMBDA FUNCTIONS TO SORT A LIST OF TUPLES BASED ON THE SECOND ELEMENT"
   ]
  },
  {
   "cell_type": "code",
   "execution_count": null,
   "id": "7f2bd04f-196c-46be-bb5a-4ebdecc03979",
   "metadata": {},
   "outputs": [],
   "source": [
    "my_list=[('apple',5),('banana',2),('cherry',8),('durian',3)]\n",
    "sorted_list = sorted(my_list"
   ]
  },
  {
   "cell_type": "code",
   "execution_count": null,
   "id": "3f3c8d3c-de03-4eaa-9438-990c10e31a1c",
   "metadata": {},
   "outputs": [],
   "source": []
  },
  {
   "cell_type": "code",
   "execution_count": null,
   "id": "c7314634-a4ae-4a3b-b301-2d437468faf4",
   "metadata": {},
   "outputs": [],
   "source": []
  },
  {
   "cell_type": "code",
   "execution_count": 38,
   "id": "097eff26-eb6b-406b-8713-0a5398659826",
   "metadata": {
    "tags": []
   },
   "outputs": [],
   "source": [
    "#QUESTION 3"
   ]
  },
  {
   "cell_type": "code",
   "execution_count": 39,
   "id": "20c63c2c-ed00-4843-8837-bb1a939c6c6e",
   "metadata": {
    "tags": []
   },
   "outputs": [],
   "source": [
    "#EXPLAIN THE CONCEPT OF HIGHER-ORDER FUNCTIONS IN PYTHON, AND PROVIDE AN EXAMPLE."
   ]
  },
  {
   "cell_type": "code",
   "execution_count": 65,
   "id": "02e8abfa-85e3-42ec-a010-b343ebdf3f94",
   "metadata": {
    "tags": []
   },
   "outputs": [
    {
     "name": "stdout",
     "output_type": "stream",
     "text": [
      "10\n"
     ]
    }
   ],
   "source": [
    "def make_multiplier(x):\n",
    "    def multiplier(n):\n",
    "        return x*n\n",
    "    return multiplier\n",
    "times_two = make_multiplier(2)\n",
    "print(times_two(5))"
   ]
  },
  {
   "cell_type": "code",
   "execution_count": null,
   "id": "4a358a8a-0a27-4423-9fb7-44d87671965e",
   "metadata": {},
   "outputs": [],
   "source": []
  },
  {
   "cell_type": "code",
   "execution_count": null,
   "id": "b857d861-3b18-47d8-b4fe-d1c8dd71a177",
   "metadata": {},
   "outputs": [],
   "source": []
  },
  {
   "cell_type": "code",
   "execution_count": 40,
   "id": "ee739820-f798-40f5-a158-db7100bb2bf7",
   "metadata": {
    "tags": []
   },
   "outputs": [],
   "source": [
    "#QUESTION 4"
   ]
  },
  {
   "cell_type": "code",
   "execution_count": 41,
   "id": "330df686-276a-4934-8e55-a1d33511d747",
   "metadata": {
    "tags": []
   },
   "outputs": [],
   "source": [
    "# CREATE A PYTHON FUNCTION THAT TAKES A LIST OF NUMBERS AND A FUNCTION AS ARGUMENTS, APPLYING THE FUN TO EACH ELEMENT IN THE LIST."
   ]
  },
  {
   "cell_type": "code",
   "execution_count": 64,
   "id": "8b2e93df-f9c0-49d4-a118-098ce288df3c",
   "metadata": {
    "tags": []
   },
   "outputs": [
    {
     "name": "stdout",
     "output_type": "stream",
     "text": [
      "[2, 4, 6, 8, 10]\n"
     ]
    }
   ],
   "source": [
    "def apply_to_list(my_list,func):\n",
    "    return[func(i) for i in my_list]\n",
    "numbers = [1,2,3,4,5]\n",
    "def double(num):\n",
    "    return num*2\n",
    "print(apply_to_list(numbers,double))"
   ]
  },
  {
   "cell_type": "code",
   "execution_count": null,
   "id": "23e23a34-0d41-467e-8587-e54591813dd9",
   "metadata": {},
   "outputs": [],
   "source": []
  },
  {
   "cell_type": "code",
   "execution_count": null,
   "id": "24dd5bc0-bac2-4696-ae14-8283d25486be",
   "metadata": {},
   "outputs": [],
   "source": []
  },
  {
   "cell_type": "code",
   "execution_count": 42,
   "id": "bb7c115d-a56a-41c1-bc5f-b1767dbef1d3",
   "metadata": {
    "tags": []
   },
   "outputs": [],
   "source": [
    "#BUILT-IN FUNCTION "
   ]
  },
  {
   "cell_type": "code",
   "execution_count": 43,
   "id": "09632568-90cd-4e7e-a851-bd5a8e00096b",
   "metadata": {
    "tags": []
   },
   "outputs": [],
   "source": [
    "#QUESTION 1"
   ]
  },
  {
   "cell_type": "code",
   "execution_count": 44,
   "id": "7463eb36-60ac-4bce-8305-b705fcfed7cf",
   "metadata": {
    "tags": []
   },
   "outputs": [],
   "source": [
    "#DESCRIBE THE ROLE OF BUILT IN FUNCTIONS LIKE `LEN()`,`MAX()`,AND`MIN()` IN PYTHON"
   ]
  },
  {
   "cell_type": "code",
   "execution_count": 63,
   "id": "11f07476-ffe9-498a-9bc3-379194245bab",
   "metadata": {
    "tags": []
   },
   "outputs": [
    {
     "name": "stdout",
     "output_type": "stream",
     "text": [
      "Length of the list: 4\n",
      "Maximum number: 9\n",
      "Minimum number: 1\n"
     ]
    }
   ],
   "source": [
    "numbers = [5,2,9,1]\n",
    "length = len(numbers)\n",
    "maximum=max(numbers)\n",
    "minimum=min(numbers)\n",
    "print(\"Length of the list:\",length)\n",
    "print(\"Maximum number:\",maximum)\n",
    "print(\"Minimum number:\",minimum)\n"
   ]
  },
  {
   "cell_type": "code",
   "execution_count": null,
   "id": "bc705acc-ff25-4afa-b095-70914549129b",
   "metadata": {},
   "outputs": [],
   "source": []
  },
  {
   "cell_type": "code",
   "execution_count": null,
   "id": "e990d58f-8ec5-4a3e-a4cd-c59edbbbe163",
   "metadata": {},
   "outputs": [],
   "source": []
  },
  {
   "cell_type": "code",
   "execution_count": 45,
   "id": "988a5002-9992-4597-848c-8effcced6cb2",
   "metadata": {
    "tags": []
   },
   "outputs": [],
   "source": [
    "#QUESTION 2 "
   ]
  },
  {
   "cell_type": "code",
   "execution_count": 46,
   "id": "082cdb7f-14e8-4347-96dc-c4b714ac58c2",
   "metadata": {
    "tags": []
   },
   "outputs": [],
   "source": [
    "#WRITE A PYTHON PROGRAM THAT USES THE `MAP()` FUNCTION TO APPLY A FUNCTION TO EACH ELEMENT OF A LIST."
   ]
  },
  {
   "cell_type": "code",
   "execution_count": 61,
   "id": "9e8f8283-21fe-4584-8770-549d1c104310",
   "metadata": {
    "tags": []
   },
   "outputs": [
    {
     "name": "stdout",
     "output_type": "stream",
     "text": [
      "[1, 4, 9, 16, 25]\n"
     ]
    }
   ],
   "source": [
    "def square(num):\n",
    "    return num**2\n",
    "numbers = [1,2,3,4,5]\n",
    "squared_numbers = map(square,numbers)\n",
    "print(list(squared_numbers))"
   ]
  },
  {
   "cell_type": "code",
   "execution_count": null,
   "id": "5a9c5452-e531-463c-a818-29617fde427c",
   "metadata": {},
   "outputs": [],
   "source": []
  },
  {
   "cell_type": "code",
   "execution_count": null,
   "id": "a727f052-6d90-46e5-a645-d57177da15a7",
   "metadata": {},
   "outputs": [],
   "source": []
  },
  {
   "cell_type": "code",
   "execution_count": 47,
   "id": "38780b51-8b32-4b1f-b416-b1c379cf03b1",
   "metadata": {
    "tags": []
   },
   "outputs": [],
   "source": [
    "#QUESTION 3"
   ]
  },
  {
   "cell_type": "code",
   "execution_count": 49,
   "id": "6b917730-eb88-47ca-8984-2f7e7ba7d7bf",
   "metadata": {
    "tags": []
   },
   "outputs": [],
   "source": [
    "# HOW DOES THE `FILTER()` FUNCTION WORK IN PYTHON,AND WHEN WOULD YOU USE IT"
   ]
  },
  {
   "cell_type": "code",
   "execution_count": 60,
   "id": "815c6d73-9301-429c-97f0-16446daf3987",
   "metadata": {
    "tags": []
   },
   "outputs": [
    {
     "name": "stdout",
     "output_type": "stream",
     "text": [
      "[2, 4, 6]\n"
     ]
    }
   ],
   "source": [
    "def is_even(num):\n",
    "    return num%2==0\n",
    "numbers=[1,2,3,4,5,6]\n",
    "even_numbers = filter(is_even, numbers)\n",
    "print(list(even_numbers))"
   ]
  },
  {
   "cell_type": "code",
   "execution_count": null,
   "id": "2a4ca946-ad64-4c60-ab3d-03e0fd27b5cc",
   "metadata": {},
   "outputs": [],
   "source": []
  },
  {
   "cell_type": "code",
   "execution_count": null,
   "id": "c5388398-6f68-4a3c-9846-be3549b4b93c",
   "metadata": {},
   "outputs": [],
   "source": []
  },
  {
   "cell_type": "code",
   "execution_count": 50,
   "id": "8cc9fd0d-845f-4622-a7f3-dc6e4d002861",
   "metadata": {
    "tags": []
   },
   "outputs": [],
   "source": [
    "#QUESTION 4"
   ]
  },
  {
   "cell_type": "code",
   "execution_count": 51,
   "id": "332387ff-58fa-4a88-863c-405e595b5d4c",
   "metadata": {
    "tags": []
   },
   "outputs": [],
   "source": [
    "#CREATE A PYTHON PROGRAM THAT USES THE `REDUCE()` FUNCTION TO FIND THE PRODUCT OF ALL ELEMENTS IN A LIST."
   ]
  },
  {
   "cell_type": "code",
   "execution_count": 59,
   "id": "13ec6365-003c-4c97-aaa5-d2e9ff86de8f",
   "metadata": {
    "tags": []
   },
   "outputs": [
    {
     "name": "stdout",
     "output_type": "stream",
     "text": [
      "The product of all elements in the list is: 384\n"
     ]
    }
   ],
   "source": [
    "from functools import reduce\n",
    "def multiply(x,y):\n",
    "    return x*y\n",
    "my_list= [2,4,6,8]\n",
    "product = reduce(multiply,my_list)\n",
    "print(\"The product of all elements in the list is:\",product)"
   ]
  },
  {
   "cell_type": "code",
   "execution_count": null,
   "id": "d6c10f3e-e45d-4dbf-8e94-1e843c7161c0",
   "metadata": {},
   "outputs": [],
   "source": []
  },
  {
   "cell_type": "code",
   "execution_count": null,
   "id": "aa885e8f-3920-49c3-ba96-d10ef8d572f4",
   "metadata": {},
   "outputs": [],
   "source": []
  },
  {
   "cell_type": "code",
   "execution_count": 52,
   "id": "8e1cb4ca-db30-4aba-91ff-57e13f3e4859",
   "metadata": {
    "tags": []
   },
   "outputs": [],
   "source": [
    "#FUNCTION DOCUMENTATION AND BEST PRACTICES:"
   ]
  },
  {
   "cell_type": "code",
   "execution_count": 53,
   "id": "bc693604-eade-409d-a09f-3575892f70d1",
   "metadata": {
    "tags": []
   },
   "outputs": [],
   "source": [
    "# QUESTION 1 "
   ]
  },
  {
   "cell_type": "code",
   "execution_count": 54,
   "id": "b2a8c16a-3bec-416b-b007-8c7a0bf3b166",
   "metadata": {
    "tags": []
   },
   "outputs": [],
   "source": [
    "# EXPLAIN THE PURPOSE OF DOCSTRINGS IN PYTHON FUNCTIONS AND HOW TO WRITE THEM."
   ]
  },
  {
   "cell_type": "code",
   "execution_count": null,
   "id": "0a0b1f3c-5258-4603-b328-9f014245b963",
   "metadata": {},
   "outputs": [],
   "source": [
    "\"\"\"docstrings, short for documentation strings are super useful in python. They're essentially comments that you \n",
    "can add at\n",
    "the beginning of a function, method, class or module to explain what it does.\n",
    "here's how you write them: just put a string (you can use single, double, or triple quotes) right after your \n",
    "function definition. for instance:\n",
    "def my_function():\n",
    "This is a docstring. It explains what my_function does.\n",
    "my__function does.\n",
    "    # Rest of the function code here \n",
    "The cool part part is, you can access them with the __doc__`attribute. So if you type `my_function.__doc__`,you'll\n",
    "see your docstring!\n",
    "They're a great way to keep your code understandle and maintainable. it's like leaving a note for yourself and \n",
    "other developers!"
   ]
  },
  {
   "cell_type": "code",
   "execution_count": null,
   "id": "2ac1fbce-1629-426e-b504-4a5890eea2a6",
   "metadata": {},
   "outputs": [],
   "source": []
  },
  {
   "cell_type": "code",
   "execution_count": null,
   "id": "442b0c37-81b9-43fa-9e6e-468a279ce32c",
   "metadata": {},
   "outputs": [],
   "source": []
  },
  {
   "cell_type": "code",
   "execution_count": 55,
   "id": "9658feaf-999a-47f0-b0bd-b2c203893a7d",
   "metadata": {
    "tags": []
   },
   "outputs": [],
   "source": [
    "# QUESTION 2"
   ]
  },
  {
   "cell_type": "code",
   "execution_count": 56,
   "id": "ac57885c-2197-4607-9c0d-0af825560a35",
   "metadata": {
    "tags": []
   },
   "outputs": [],
   "source": [
    "# DESCRIBE SOME BEST PRACTICES FOR NAMING FUNCTIONS AND VARIABLES IN PYTHON, INCLUDING NAMING CONVENTIONS AND GUIDELINES."
   ]
  },
  {
   "cell_type": "code",
   "execution_count": null,
   "id": "3ed5e8d9-27b5-4bc0-a308-d7f0fedaacb5",
   "metadata": {},
   "outputs": [],
   "source": [
    "\"\"\"its a good to keep variable and function names descriptive and clear.\n",
    "1. use lowercase letters and underscores for variable names, like `my_variable`.\n",
    "2. function names should also be lowercase and separated by underscores, for example,`my_function()`.\n",
    "3. avoid using python's built in names, like `list` or `str`.\n",
    "4. keep names concise, but not so short that they're unclear. `num_students` is better than 'n' or \n",
    "   'number_of_students_in_the_class`.\n",
    "5. constants should be all uppercase, like `MAX_SPEED`.\n",
    "we always have to remember that  a clear and consistent naming makes your code easier to read and understand."
   ]
  }
 ],
 "metadata": {
  "kernelspec": {
   "display_name": "Python 3 (ipykernel)",
   "language": "python",
   "name": "python3"
  },
  "language_info": {
   "codemirror_mode": {
    "name": "ipython",
    "version": 3
   },
   "file_extension": ".py",
   "mimetype": "text/x-python",
   "name": "python",
   "nbconvert_exporter": "python",
   "pygments_lexer": "ipython3",
   "version": "3.11.4"
  }
 },
 "nbformat": 4,
 "nbformat_minor": 5
}
